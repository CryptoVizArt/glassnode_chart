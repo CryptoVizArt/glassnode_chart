{
 "cells": [
  {
   "metadata": {
    "ExecuteTime": {
     "end_time": "2024-10-29T20:08:04.613136Z",
     "start_time": "2024-10-29T20:08:04.519590Z"
    }
   },
   "cell_type": "code",
   "source": [
    "from PIL import Image\n",
    "import pandas as pd\n",
    "import numpy as np\n",
    "import plotly.graph_objects as go\n",
    "from datetime import datetime\n",
    "from pathlib import Path\n",
    "\n",
    "\n",
    "def create_chart(\n",
    "        csv_filename: str,\n",
    "        date_column: str,\n",
    "        chart_type: str,\n",
    "        columns_to_plot: dict,\n",
    "        data_folder: str = \"data\",\n",
    "        watermark: str = \"off\",\n",
    "        title: str = None,\n",
    "        stacked: str = \"off\",\n",
    "        unit: str = None\n",
    ") -> go.Figure:\n",
    "    \"\"\"\n",
    "    Create a chart from CSV data with specified parameters.\n",
    "    \n",
    "    Parameters:\n",
    "    -----------\n",
    "    csv_filename : str\n",
    "        Name of the CSV file (e.g., 'lending_market_rate.csv')\n",
    "    date_column : str\n",
    "        Name of the column containing dates to be used as index\n",
    "    chart_type : str\n",
    "        Type of chart to create ('line', 'bar', or 'area')\n",
    "    columns_to_plot : dict\n",
    "        Dictionary mapping column names to display names \n",
    "        (e.g., {'fed_rate': 'Federal Rate', 'defi_rate': 'DeFi Rate'})\n",
    "    data_folder : str\n",
    "        Name of the folder containing the CSV files (default: 'data')\n",
    "    watermark : str\n",
    "        Whether to add watermark and styling ('on' or 'off', default: 'off')\n",
    "    title : str\n",
    "        Title text for the chart (optional)\n",
    "    stacked : str\n",
    "        Whether to stack the bars/areas ('on' or 'off', default: 'off')\n",
    "    unit : str\n",
    "        Unit for y-axis values ('K', 'M', 'B', or None for no unit formatting)\n",
    "    \"\"\"\n",
    "    # Try different path options\n",
    "    possible_paths = [\n",
    "        Path.cwd() / data_folder / csv_filename,\n",
    "        Path.cwd().parent / data_folder / csv_filename,\n",
    "        Path(data_folder) / csv_filename\n",
    "    ]\n",
    "\n",
    "    # Print current working directory for debugging\n",
    "    print(f\"Current working directory: {Path.cwd()}\")\n",
    "\n",
    "    # Try each path until we find one that works\n",
    "    df = None\n",
    "    for path in possible_paths:\n",
    "        try:\n",
    "            if path.exists():\n",
    "                df = pd.read_csv(path)\n",
    "                print(f\"Successfully loaded data from: {path}\")\n",
    "                break\n",
    "        except Exception as e:\n",
    "            print(f\"Tried path: {path} (not found)\")\n",
    "            continue\n",
    "\n",
    "    if df is None:\n",
    "        raise FileNotFoundError(f\"Could not find {csv_filename} in any of these locations:\\n\" +\n",
    "                                \"\\n\".join(str(p) for p in possible_paths))\n",
    "\n",
    "    # Convert date column to datetime\n",
    "    df[date_column] = pd.to_datetime(df[date_column])\n",
    "\n",
    "    # Create figure\n",
    "    fig = go.Figure()\n",
    "\n",
    "    # Generate hover template text based on unit\n",
    "    def get_hover_template(display_name):\n",
    "        if unit is None:\n",
    "            return f\"{display_name}: %{{y:,.0f}}<extra></extra>\"\n",
    "        elif unit.upper() == 'K':\n",
    "            return f\"{display_name}: %{{y:,.0f}}K<extra></extra>\"\n",
    "        elif unit.upper() == 'M':\n",
    "            return f\"{display_name}: %{{y:,.1f}}M<extra></extra>\"\n",
    "        elif unit.upper() == 'B':\n",
    "            return f\"{display_name}: %{{y:,.2f}}B<extra></extra>\"\n",
    "        return f\"{display_name}: %{{y:,.0f}}<extra></extra>\"\n",
    "\n",
    "    # Function to format tick values\n",
    "    def tick_format(value):\n",
    "        try:\n",
    "            val = float(value)\n",
    "            if unit is None:\n",
    "                return f\"{val:,.0f}\"\n",
    "            elif unit.upper() == 'K':\n",
    "                return f\"{val/1000:,.0f}K\"\n",
    "            elif unit.upper() == 'M':\n",
    "                return f\"{val/1_000_000:,.1f}M\"\n",
    "            elif unit.upper() == 'B':\n",
    "                return f\"{val/1_000_000_000:,.2f}B\"\n",
    "            return f\"{val:,.0f}\"\n",
    "        except:\n",
    "            return value\n",
    "\n",
    "    # Add traces based on chart type\n",
    "    for column, display_name in columns_to_plot.items():\n",
    "        if chart_type.lower() == 'line':\n",
    "            fig.add_trace(\n",
    "                go.Scatter(\n",
    "                    x=df[date_column],\n",
    "                    y=df[column],\n",
    "                    name=display_name,\n",
    "                    mode='lines',\n",
    "                    hovertemplate=get_hover_template(display_name)\n",
    "                )\n",
    "            )\n",
    "\n",
    "        elif chart_type.lower() == 'bar':\n",
    "            fig.add_trace(\n",
    "                go.Bar(\n",
    "                    x=df[date_column],\n",
    "                    y=df[column],\n",
    "                    name=display_name,\n",
    "                    hovertemplate=get_hover_template(display_name)\n",
    "                )\n",
    "            )\n",
    "\n",
    "        elif chart_type.lower() == 'area':\n",
    "            fig.add_trace(\n",
    "                go.Scatter(\n",
    "                    x=df[date_column],\n",
    "                    y=df[column],\n",
    "                    name=display_name,\n",
    "                    mode='lines',\n",
    "                    stackgroup='one' if stacked.lower() == 'on' else None,\n",
    "                    fill='tonexty',\n",
    "                    hovertemplate=get_hover_template(display_name)\n",
    "                )\n",
    "            )\n",
    "        else:\n",
    "            raise ValueError(\"Chart type must be 'line', 'bar', or 'area'\")\n",
    "\n",
    "    # Get min and max values for y-axis\n",
    "    if stacked.lower() == 'on' and chart_type.lower() in ['bar', 'area']:\n",
    "        # For stacked charts, sum the values for max\n",
    "        stacked_sums = df[list(columns_to_plot.keys())].sum(axis=1)\n",
    "        y_min = 0  # Stacked charts typically start at 0\n",
    "        y_max = stacked_sums.max()\n",
    "    else:\n",
    "        y_min = min(df[column].min() for column in columns_to_plot.keys())\n",
    "        y_max = max(df[column].max() for column in columns_to_plot.keys())\n",
    "\n",
    "    # Calculate font sizes\n",
    "    axis_size = 17\n",
    "\n",
    "    # Define colors - darker grey\n",
    "    border_color = '#7f7f7f'\n",
    "\n",
    "    # Set default title text if not provided\n",
    "    default_title = f'{chart_type.capitalize()} Chart: {\", \".join(columns_to_plot.values())}'\n",
    "    if stacked.lower() == 'on' and chart_type.lower() in ['bar', 'area']:\n",
    "        default_title = f'Stacked {default_title}'\n",
    "\n",
    "    # Generate tick values and their formatted labels\n",
    "    tick_vals = np.linspace(y_min, y_max, 8)\n",
    "    tick_texts = [tick_format(val) for val in tick_vals]\n",
    "\n",
    "    # Basic layout update with new styling\n",
    "    layout_dict = {\n",
    "        'title': dict(\n",
    "            text=title if title else default_title,\n",
    "            font=dict(\n",
    "                color='#000000',\n",
    "                size=29,\n",
    "                weight='bold'\n",
    "            ),\n",
    "            x=0.055,\n",
    "            y=0.94,\n",
    "            xanchor='left',\n",
    "            yanchor='top',\n",
    "            pad=dict(t=0, b=0)\n",
    "        ),\n",
    "        'width': 1350,\n",
    "        'height': 750,\n",
    "        'showlegend': True,\n",
    "        'font': dict(color=border_color),\n",
    "        'legend': dict(\n",
    "            orientation=\"h\",\n",
    "            yanchor=\"top\",\n",
    "            y=0.98,\n",
    "            xanchor=\"left\",\n",
    "            x=0.02,\n",
    "            font=dict(\n",
    "                color=border_color,\n",
    "                size=axis_size\n",
    "            ),\n",
    "            bgcolor='rgba(255, 255, 255, 0.8)'\n",
    "        ),\n",
    "        'xaxis': dict(\n",
    "            title=None,\n",
    "            tickformat=\"%b '%y\",\n",
    "            dtick=\"M3\",\n",
    "            tickangle=0,\n",
    "            tickmode='array',\n",
    "            ticktext=[\n",
    "                date.strftime(\"%b '%y\")\n",
    "                for date in pd.date_range(\n",
    "                    start=df[date_column].min(),\n",
    "                    end=df[date_column].max(),\n",
    "                    freq='3ME'\n",
    "                )\n",
    "            ],\n",
    "            tickvals=[\n",
    "                date\n",
    "                for date in pd.date_range(\n",
    "                    start=df[date_column].min(),\n",
    "                    end=df[date_column].max(),\n",
    "                    freq='3ME'\n",
    "                )\n",
    "            ],\n",
    "            tickfont=dict(\n",
    "                color=border_color,\n",
    "                size=axis_size\n",
    "            ),\n",
    "            showgrid=False,\n",
    "            ticks='outside',\n",
    "            ticklen=8,\n",
    "            tickwidth=1\n",
    "        ),\n",
    "        'yaxis': dict(\n",
    "            title=None,\n",
    "            showgrid=False,\n",
    "            tickfont=dict(\n",
    "                color=border_color,\n",
    "                size=axis_size\n",
    "            ),\n",
    "            ticks='outside',\n",
    "            ticklen=8,\n",
    "            tickwidth=1,\n",
    "            range=[y_min, y_max],\n",
    "            mirror=True,\n",
    "            side='left',\n",
    "            showticksuffix='none',\n",
    "            showtickprefix='none',\n",
    "            showticklabels=True,\n",
    "            tickson='labels',\n",
    "            tickmode='array',\n",
    "            ticktext=tick_texts,\n",
    "            tickvals=tick_vals\n",
    "        )\n",
    "    }\n",
    "\n",
    "    # Add barmode for stacked bar charts\n",
    "    if chart_type.lower() == 'bar' and stacked.lower() == 'on':\n",
    "        layout_dict['barmode'] = 'stack'\n",
    "\n",
    "    fig.update_layout(layout_dict)\n",
    "\n",
    "    # Add watermark and styling if requested\n",
    "    if watermark.lower() == \"on\":\n",
    "        try:\n",
    "            # Open and add the watermark image\n",
    "            watermark_img = Image.open(\"glassnode_large.png\")\n",
    "            fig.add_layout_image(\n",
    "                dict(\n",
    "                    source=watermark_img,\n",
    "                    sizex=0.36,\n",
    "                    sizey=0.36,\n",
    "                    xanchor=\"center\",\n",
    "                    yanchor=\"middle\",\n",
    "                    xref=\"paper\",\n",
    "                    yref=\"paper\",\n",
    "                    x=0.5,\n",
    "                    y=0.5,\n",
    "                    opacity=0.15,\n",
    "                    layer=\"above\"\n",
    "                )\n",
    "            )\n",
    "\n",
    "            # Add copyright text\n",
    "            fig.add_annotation(\n",
    "                showarrow=False,\n",
    "                text=f\"© {str(datetime.today().year)} Glassnode. All Rights Reserved\",\n",
    "                font=dict(\n",
    "                    size=15,\n",
    "                    color=border_color\n",
    "                ),\n",
    "                xref='paper',\n",
    "                yref='paper',\n",
    "                x=1,\n",
    "                y=-0.125,\n",
    "                opacity=0.5\n",
    "            )\n",
    "        except FileNotFoundError:\n",
    "            print(\"Warning: Watermark image not found. Skipping watermark but applying styling.\")\n",
    "\n",
    "        # Apply styling regardless of whether watermark image was found\n",
    "        fig.update_layout({\n",
    "            'plot_bgcolor': 'white',\n",
    "            'paper_bgcolor': 'white',\n",
    "            'xaxis': {\n",
    "                'linecolor': border_color,\n",
    "                'linewidth': 1,\n",
    "                'mirror': True,\n",
    "                'showgrid': False,\n",
    "                'ticks': 'outside',\n",
    "                'ticklen': 8,\n",
    "                'tickwidth': 1\n",
    "            },\n",
    "            'yaxis': {\n",
    "                'showgrid': False,\n",
    "                'linecolor': border_color,\n",
    "                'linewidth': 1,\n",
    "                'mirror': True,\n",
    "                'ticks': 'outside',\n",
    "                'ticklen': 8,\n",
    "                'tickwidth': 1,\n",
    "                'range': [y_min, y_max],\n",
    "                'side': 'left',\n",
    "                'showticksuffix': 'none',\n",
    "                'showtickprefix': 'none',\n",
    "                'showticklabels': True,\n",
    "                'tickson': 'labels'\n",
    "            },\n",
    "            'autosize': True\n",
    "        })\n",
    "\n",
    "    return fig\n",
    "\n",
    "\n",
    "# Example usage with unit formatting\n",
    "fig_area = create_chart(\n",
    "     csv_filename='vc_deals.csv',\n",
    "    date_column='t',\n",
    "    chart_type='bar',\n",
    "    columns_to_plot={\n",
    "        'sum': 'VC Deals [USD]'\n",
    "    },\n",
    "    watermark=\"on\",\n",
    "    title='Total VC Deals',\n",
    "    stacked=\"off\",\n",
    "    unit='B'  # Will format values in millions\n",
    ")\n",
    "fig_area.show()"
   ],
   "id": "60480a564415cb6c",
   "outputs": [
    {
     "name": "stdout",
     "output_type": "stream",
     "text": [
      "Current working directory: E:\\Projects\\Glassnode\\projects\\glassnode_chart\\fasanara\n",
      "Successfully loaded data from: E:\\Projects\\Glassnode\\projects\\glassnode_chart\\data\\vc_deals.csv\n"
     ]
    },
    {
     "name": "stderr",
     "output_type": "stream",
     "text": [
      "C:\\Users\\!mm32205\\AppData\\Local\\Temp\\ipykernel_29236\\718021697.py:72: UserWarning:\n",
      "\n",
      "Could not infer format, so each element will be parsed individually, falling back to `dateutil`. To ensure parsing is consistent and as-expected, please specify a format.\n",
      "\n"
     ]
    },
    {
     "data": {
      "application/vnd.plotly.v1+json": {
       "data": [
        {
         "hovertemplate": "VC Deals [USD]: %{y:,.2f}B<extra></extra>",
         "name": "VC Deals [USD]",
         "x": [
          "2024-10-01T00:00:00",
          "2024-09-01T00:00:00",
          "2024-08-01T00:00:00",
          "2024-07-01T00:00:00",
          "2024-06-01T00:00:00",
          "2024-05-01T00:00:00",
          "2024-04-01T00:00:00",
          "2024-03-01T00:00:00",
          "2024-02-01T00:00:00",
          "2024-01-01T00:00:00",
          "2023-12-01T00:00:00",
          "2023-11-01T00:00:00",
          "2023-10-01T00:00:00",
          "2023-09-01T00:00:00",
          "2023-08-01T00:00:00",
          "2023-07-01T00:00:00",
          "2023-06-01T00:00:00",
          "2023-05-01T00:00:00",
          "2023-04-01T00:00:00",
          "2023-03-01T00:00:00",
          "2023-02-01T00:00:00",
          "2023-01-01T00:00:00",
          "2022-12-01T00:00:00",
          "2022-11-01T00:00:00",
          "2022-10-01T00:00:00",
          "2022-09-01T00:00:00",
          "2022-08-01T00:00:00",
          "2022-07-01T00:00:00",
          "2022-06-01T00:00:00",
          "2022-05-01T00:00:00",
          "2022-04-01T00:00:00",
          "2022-03-01T00:00:00",
          "2022-02-01T00:00:00",
          "2022-01-01T00:00:00",
          "2021-12-01T00:00:00",
          "2021-11-01T00:00:00",
          "2021-10-01T00:00:00",
          "2021-09-01T00:00:00",
          "2021-08-01T00:00:00",
          "2021-07-01T00:00:00",
          "2021-06-01T00:00:00",
          "2021-05-01T00:00:00",
          "2021-04-01T00:00:00",
          "2021-03-01T00:00:00",
          "2021-02-01T00:00:00",
          "2021-01-01T00:00:00"
         ],
         "y": [
          544450000,
          659310000,
          638900000,
          542100000,
          479150000,
          782550000,
          954490000,
          1045047928,
          551910000,
          709200000,
          586930000,
          767050000,
          343680000,
          381338000,
          267750000,
          460000000,
          345082000,
          624900000,
          547600000,
          793249000,
          813070000,
          573691000,
          761000000,
          1272765000,
          1148820000,
          1613640000,
          1152950000,
          974000000,
          1303910000,
          3037200000,
          2226500000,
          3673650000,
          2795436900,
          2598270000,
          3657180000,
          7078710000,
          3740775000,
          3139910000,
          3222690000,
          2621150000,
          2258140000,
          3553520000,
          1631130000,
          2636790000,
          1635150000,
          1171580000
         ],
         "type": "bar"
        }
       ],
       "layout": {
        "template": {
         "data": {
          "histogram2dcontour": [
           {
            "type": "histogram2dcontour",
            "colorbar": {
             "outlinewidth": 0,
             "ticks": ""
            },
            "colorscale": [
             [
              0.0,
              "#0d0887"
             ],
             [
              0.1111111111111111,
              "#46039f"
             ],
             [
              0.2222222222222222,
              "#7201a8"
             ],
             [
              0.3333333333333333,
              "#9c179e"
             ],
             [
              0.4444444444444444,
              "#bd3786"
             ],
             [
              0.5555555555555556,
              "#d8576b"
             ],
             [
              0.6666666666666666,
              "#ed7953"
             ],
             [
              0.7777777777777778,
              "#fb9f3a"
             ],
             [
              0.8888888888888888,
              "#fdca26"
             ],
             [
              1.0,
              "#f0f921"
             ]
            ]
           }
          ],
          "choropleth": [
           {
            "type": "choropleth",
            "colorbar": {
             "outlinewidth": 0,
             "ticks": ""
            }
           }
          ],
          "histogram2d": [
           {
            "type": "histogram2d",
            "colorbar": {
             "outlinewidth": 0,
             "ticks": ""
            },
            "colorscale": [
             [
              0.0,
              "#0d0887"
             ],
             [
              0.1111111111111111,
              "#46039f"
             ],
             [
              0.2222222222222222,
              "#7201a8"
             ],
             [
              0.3333333333333333,
              "#9c179e"
             ],
             [
              0.4444444444444444,
              "#bd3786"
             ],
             [
              0.5555555555555556,
              "#d8576b"
             ],
             [
              0.6666666666666666,
              "#ed7953"
             ],
             [
              0.7777777777777778,
              "#fb9f3a"
             ],
             [
              0.8888888888888888,
              "#fdca26"
             ],
             [
              1.0,
              "#f0f921"
             ]
            ]
           }
          ],
          "heatmap": [
           {
            "type": "heatmap",
            "colorbar": {
             "outlinewidth": 0,
             "ticks": ""
            },
            "colorscale": [
             [
              0.0,
              "#0d0887"
             ],
             [
              0.1111111111111111,
              "#46039f"
             ],
             [
              0.2222222222222222,
              "#7201a8"
             ],
             [
              0.3333333333333333,
              "#9c179e"
             ],
             [
              0.4444444444444444,
              "#bd3786"
             ],
             [
              0.5555555555555556,
              "#d8576b"
             ],
             [
              0.6666666666666666,
              "#ed7953"
             ],
             [
              0.7777777777777778,
              "#fb9f3a"
             ],
             [
              0.8888888888888888,
              "#fdca26"
             ],
             [
              1.0,
              "#f0f921"
             ]
            ]
           }
          ],
          "heatmapgl": [
           {
            "type": "heatmapgl",
            "colorbar": {
             "outlinewidth": 0,
             "ticks": ""
            },
            "colorscale": [
             [
              0.0,
              "#0d0887"
             ],
             [
              0.1111111111111111,
              "#46039f"
             ],
             [
              0.2222222222222222,
              "#7201a8"
             ],
             [
              0.3333333333333333,
              "#9c179e"
             ],
             [
              0.4444444444444444,
              "#bd3786"
             ],
             [
              0.5555555555555556,
              "#d8576b"
             ],
             [
              0.6666666666666666,
              "#ed7953"
             ],
             [
              0.7777777777777778,
              "#fb9f3a"
             ],
             [
              0.8888888888888888,
              "#fdca26"
             ],
             [
              1.0,
              "#f0f921"
             ]
            ]
           }
          ],
          "contourcarpet": [
           {
            "type": "contourcarpet",
            "colorbar": {
             "outlinewidth": 0,
             "ticks": ""
            }
           }
          ],
          "contour": [
           {
            "type": "contour",
            "colorbar": {
             "outlinewidth": 0,
             "ticks": ""
            },
            "colorscale": [
             [
              0.0,
              "#0d0887"
             ],
             [
              0.1111111111111111,
              "#46039f"
             ],
             [
              0.2222222222222222,
              "#7201a8"
             ],
             [
              0.3333333333333333,
              "#9c179e"
             ],
             [
              0.4444444444444444,
              "#bd3786"
             ],
             [
              0.5555555555555556,
              "#d8576b"
             ],
             [
              0.6666666666666666,
              "#ed7953"
             ],
             [
              0.7777777777777778,
              "#fb9f3a"
             ],
             [
              0.8888888888888888,
              "#fdca26"
             ],
             [
              1.0,
              "#f0f921"
             ]
            ]
           }
          ],
          "surface": [
           {
            "type": "surface",
            "colorbar": {
             "outlinewidth": 0,
             "ticks": ""
            },
            "colorscale": [
             [
              0.0,
              "#0d0887"
             ],
             [
              0.1111111111111111,
              "#46039f"
             ],
             [
              0.2222222222222222,
              "#7201a8"
             ],
             [
              0.3333333333333333,
              "#9c179e"
             ],
             [
              0.4444444444444444,
              "#bd3786"
             ],
             [
              0.5555555555555556,
              "#d8576b"
             ],
             [
              0.6666666666666666,
              "#ed7953"
             ],
             [
              0.7777777777777778,
              "#fb9f3a"
             ],
             [
              0.8888888888888888,
              "#fdca26"
             ],
             [
              1.0,
              "#f0f921"
             ]
            ]
           }
          ],
          "mesh3d": [
           {
            "type": "mesh3d",
            "colorbar": {
             "outlinewidth": 0,
             "ticks": ""
            }
           }
          ],
          "scatter": [
           {
            "marker": {
             "line": {
              "color": "#283442"
             }
            },
            "type": "scatter"
           }
          ],
          "parcoords": [
           {
            "type": "parcoords",
            "line": {
             "colorbar": {
              "outlinewidth": 0,
              "ticks": ""
             }
            }
           }
          ],
          "scatterpolargl": [
           {
            "type": "scatterpolargl",
            "marker": {
             "colorbar": {
              "outlinewidth": 0,
              "ticks": ""
             }
            }
           }
          ],
          "bar": [
           {
            "error_x": {
             "color": "#f2f5fa"
            },
            "error_y": {
             "color": "#f2f5fa"
            },
            "marker": {
             "line": {
              "color": "rgb(17,17,17)",
              "width": 0.5
             },
             "pattern": {
              "fillmode": "overlay",
              "size": 10,
              "solidity": 0.2
             }
            },
            "type": "bar"
           }
          ],
          "scattergeo": [
           {
            "type": "scattergeo",
            "marker": {
             "colorbar": {
              "outlinewidth": 0,
              "ticks": ""
             }
            }
           }
          ],
          "scatterpolar": [
           {
            "type": "scatterpolar",
            "marker": {
             "colorbar": {
              "outlinewidth": 0,
              "ticks": ""
             }
            }
           }
          ],
          "histogram": [
           {
            "marker": {
             "pattern": {
              "fillmode": "overlay",
              "size": 10,
              "solidity": 0.2
             }
            },
            "type": "histogram"
           }
          ],
          "scattergl": [
           {
            "marker": {
             "line": {
              "color": "#283442"
             }
            },
            "type": "scattergl"
           }
          ],
          "scatter3d": [
           {
            "type": "scatter3d",
            "line": {
             "colorbar": {
              "outlinewidth": 0,
              "ticks": ""
             }
            },
            "marker": {
             "colorbar": {
              "outlinewidth": 0,
              "ticks": ""
             }
            }
           }
          ],
          "scattermapbox": [
           {
            "type": "scattermapbox",
            "marker": {
             "colorbar": {
              "outlinewidth": 0,
              "ticks": ""
             }
            }
           }
          ],
          "scatterternary": [
           {
            "type": "scatterternary",
            "marker": {
             "colorbar": {
              "outlinewidth": 0,
              "ticks": ""
             }
            }
           }
          ],
          "scattercarpet": [
           {
            "type": "scattercarpet",
            "marker": {
             "colorbar": {
              "outlinewidth": 0,
              "ticks": ""
             }
            }
           }
          ],
          "carpet": [
           {
            "aaxis": {
             "endlinecolor": "#A2B1C6",
             "gridcolor": "#506784",
             "linecolor": "#506784",
             "minorgridcolor": "#506784",
             "startlinecolor": "#A2B1C6"
            },
            "baxis": {
             "endlinecolor": "#A2B1C6",
             "gridcolor": "#506784",
             "linecolor": "#506784",
             "minorgridcolor": "#506784",
             "startlinecolor": "#A2B1C6"
            },
            "type": "carpet"
           }
          ],
          "table": [
           {
            "cells": {
             "fill": {
              "color": "#506784"
             },
             "line": {
              "color": "rgb(17,17,17)"
             }
            },
            "header": {
             "fill": {
              "color": "#2a3f5f"
             },
             "line": {
              "color": "rgb(17,17,17)"
             }
            },
            "type": "table"
           }
          ],
          "barpolar": [
           {
            "marker": {
             "line": {
              "color": "rgb(17,17,17)",
              "width": 0.5
             },
             "pattern": {
              "fillmode": "overlay",
              "size": 10,
              "solidity": 0.2
             }
            },
            "type": "barpolar"
           }
          ],
          "pie": [
           {
            "automargin": true,
            "type": "pie"
           }
          ]
         },
         "layout": {
          "autotypenumbers": "strict",
          "colorway": [
           "#636efa",
           "#EF553B",
           "#00cc96",
           "#ab63fa",
           "#FFA15A",
           "#19d3f3",
           "#FF6692",
           "#B6E880",
           "#FF97FF",
           "#FECB52"
          ],
          "font": {
           "color": "#f2f5fa"
          },
          "hovermode": "closest",
          "hoverlabel": {
           "align": "left"
          },
          "paper_bgcolor": "rgb(17,17,17)",
          "plot_bgcolor": "rgb(17,17,17)",
          "polar": {
           "bgcolor": "rgb(17,17,17)",
           "angularaxis": {
            "gridcolor": "#506784",
            "linecolor": "#506784",
            "ticks": ""
           },
           "radialaxis": {
            "gridcolor": "#506784",
            "linecolor": "#506784",
            "ticks": ""
           }
          },
          "ternary": {
           "bgcolor": "rgb(17,17,17)",
           "aaxis": {
            "gridcolor": "#506784",
            "linecolor": "#506784",
            "ticks": ""
           },
           "baxis": {
            "gridcolor": "#506784",
            "linecolor": "#506784",
            "ticks": ""
           },
           "caxis": {
            "gridcolor": "#506784",
            "linecolor": "#506784",
            "ticks": ""
           }
          },
          "coloraxis": {
           "colorbar": {
            "outlinewidth": 0,
            "ticks": ""
           }
          },
          "colorscale": {
           "sequential": [
            [
             0.0,
             "#0d0887"
            ],
            [
             0.1111111111111111,
             "#46039f"
            ],
            [
             0.2222222222222222,
             "#7201a8"
            ],
            [
             0.3333333333333333,
             "#9c179e"
            ],
            [
             0.4444444444444444,
             "#bd3786"
            ],
            [
             0.5555555555555556,
             "#d8576b"
            ],
            [
             0.6666666666666666,
             "#ed7953"
            ],
            [
             0.7777777777777778,
             "#fb9f3a"
            ],
            [
             0.8888888888888888,
             "#fdca26"
            ],
            [
             1.0,
             "#f0f921"
            ]
           ],
           "sequentialminus": [
            [
             0.0,
             "#0d0887"
            ],
            [
             0.1111111111111111,
             "#46039f"
            ],
            [
             0.2222222222222222,
             "#7201a8"
            ],
            [
             0.3333333333333333,
             "#9c179e"
            ],
            [
             0.4444444444444444,
             "#bd3786"
            ],
            [
             0.5555555555555556,
             "#d8576b"
            ],
            [
             0.6666666666666666,
             "#ed7953"
            ],
            [
             0.7777777777777778,
             "#fb9f3a"
            ],
            [
             0.8888888888888888,
             "#fdca26"
            ],
            [
             1.0,
             "#f0f921"
            ]
           ],
           "diverging": [
            [
             0,
             "#8e0152"
            ],
            [
             0.1,
             "#c51b7d"
            ],
            [
             0.2,
             "#de77ae"
            ],
            [
             0.3,
             "#f1b6da"
            ],
            [
             0.4,
             "#fde0ef"
            ],
            [
             0.5,
             "#f7f7f7"
            ],
            [
             0.6,
             "#e6f5d0"
            ],
            [
             0.7,
             "#b8e186"
            ],
            [
             0.8,
             "#7fbc41"
            ],
            [
             0.9,
             "#4d9221"
            ],
            [
             1,
             "#276419"
            ]
           ]
          },
          "xaxis": {
           "gridcolor": "#283442",
           "linecolor": "#506784",
           "ticks": "",
           "title": {
            "standoff": 15
           },
           "zerolinecolor": "#283442",
           "automargin": true,
           "zerolinewidth": 2
          },
          "yaxis": {
           "gridcolor": "#283442",
           "linecolor": "#506784",
           "ticks": "",
           "title": {
            "standoff": 15
           },
           "zerolinecolor": "#283442",
           "automargin": true,
           "zerolinewidth": 2
          },
          "scene": {
           "xaxis": {
            "backgroundcolor": "rgb(17,17,17)",
            "gridcolor": "#506784",
            "linecolor": "#506784",
            "showbackground": true,
            "ticks": "",
            "zerolinecolor": "#C8D4E3",
            "gridwidth": 2
           },
           "yaxis": {
            "backgroundcolor": "rgb(17,17,17)",
            "gridcolor": "#506784",
            "linecolor": "#506784",
            "showbackground": true,
            "ticks": "",
            "zerolinecolor": "#C8D4E3",
            "gridwidth": 2
           },
           "zaxis": {
            "backgroundcolor": "rgb(17,17,17)",
            "gridcolor": "#506784",
            "linecolor": "#506784",
            "showbackground": true,
            "ticks": "",
            "zerolinecolor": "#C8D4E3",
            "gridwidth": 2
           }
          },
          "shapedefaults": {
           "line": {
            "color": "#f2f5fa"
           }
          },
          "annotationdefaults": {
           "arrowcolor": "#f2f5fa",
           "arrowhead": 0,
           "arrowwidth": 1
          },
          "geo": {
           "bgcolor": "rgb(17,17,17)",
           "landcolor": "rgb(17,17,17)",
           "subunitcolor": "#506784",
           "showland": true,
           "showlakes": true,
           "lakecolor": "rgb(17,17,17)"
          },
          "title": {
           "x": 0.05
          },
          "updatemenudefaults": {
           "bgcolor": "#506784",
           "borderwidth": 0
          },
          "sliderdefaults": {
           "bgcolor": "#C8D4E3",
           "borderwidth": 1,
           "bordercolor": "rgb(17,17,17)",
           "tickwidth": 0
          },
          "mapbox": {
           "style": "dark"
          }
         }
        },
        "title": {
         "font": {
          "color": "#000000",
          "size": 29,
          "weight": "bold"
         },
         "pad": {
          "t": 0,
          "b": 0
         },
         "text": "Total VC Deals",
         "x": 0.055,
         "y": 0.94,
         "xanchor": "left",
         "yanchor": "top"
        },
        "font": {
         "color": "#7f7f7f"
        },
        "legend": {
         "font": {
          "color": "#7f7f7f",
          "size": 17
         },
         "orientation": "h",
         "yanchor": "top",
         "y": 0.98,
         "xanchor": "left",
         "x": 0.02,
         "bgcolor": "rgba(255, 255, 255, 0.8)"
        },
        "xaxis": {
         "tickfont": {
          "color": "#7f7f7f",
          "size": 17
         },
         "title": {},
         "tickformat": "%b '%y",
         "dtick": "M3",
         "tickangle": 0,
         "tickmode": "array",
         "ticktext": [
          "Jan '21",
          "Apr '21",
          "Jul '21",
          "Oct '21",
          "Jan '22",
          "Apr '22",
          "Jul '22",
          "Oct '22",
          "Jan '23",
          "Apr '23",
          "Jul '23",
          "Oct '23",
          "Jan '24",
          "Apr '24",
          "Jul '24"
         ],
         "tickvals": [
          "2021-01-31T00:00:00",
          "2021-04-30T00:00:00",
          "2021-07-31T00:00:00",
          "2021-10-31T00:00:00",
          "2022-01-31T00:00:00",
          "2022-04-30T00:00:00",
          "2022-07-31T00:00:00",
          "2022-10-31T00:00:00",
          "2023-01-31T00:00:00",
          "2023-04-30T00:00:00",
          "2023-07-31T00:00:00",
          "2023-10-31T00:00:00",
          "2024-01-31T00:00:00",
          "2024-04-30T00:00:00",
          "2024-07-31T00:00:00"
         ],
         "showgrid": false,
         "ticks": "outside",
         "ticklen": 8,
         "tickwidth": 1,
         "linecolor": "#7f7f7f",
         "linewidth": 1,
         "mirror": true
        },
        "yaxis": {
         "tickfont": {
          "color": "#7f7f7f",
          "size": 17
         },
         "title": {},
         "showgrid": false,
         "ticks": "outside",
         "ticklen": 8,
         "tickwidth": 1,
         "range": [
          267750000,
          7078710000
         ],
         "mirror": true,
         "side": "left",
         "showticksuffix": "none",
         "showtickprefix": "none",
         "showticklabels": true,
         "tickson": "labels",
         "tickmode": "array",
         "ticktext": [
          "0.27B",
          "1.24B",
          "2.21B",
          "3.19B",
          "4.16B",
          "5.13B",
          "6.11B",
          "7.08B"
         ],
         "tickvals": [
          2.6775E8,
          1.2407442857142859E9,
          2.2137385714285717E9,
          3.186732857142857E9,
          4.159727142857143E9,
          5.132721428571428E9,
          6.105715714285714E9,
          7.07871E9
         ],
         "linecolor": "#7f7f7f",
         "linewidth": 1
        },
        "width": 1350,
        "height": 750,
        "showlegend": true,
        "images": [
         {
          "layer": "above",
          "opacity": 0.15,
          "sizex": 0.36,
          "sizey": 0.36,
          "source": "data:image/png;base64,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",
          "x": 0.5,
          "xanchor": "center",
          "xref": "paper",
          "y": 0.5,
          "yanchor": "middle",
          "yref": "paper"
         }
        ],
        "annotations": [
         {
          "font": {
           "color": "#7f7f7f",
           "size": 15
          },
          "opacity": 0.5,
          "showarrow": false,
          "text": "© 2024 Glassnode. All Rights Reserved",
          "x": 1,
          "xref": "paper",
          "y": -0.125,
          "yref": "paper"
         }
        ],
        "plot_bgcolor": "white",
        "paper_bgcolor": "white",
        "autosize": true
       },
       "config": {
        "plotlyServerURL": "https://plot.ly"
       }
      },
      "text/html": [
       "<div>                            <div id=\"a3ac14ff-47a6-4d83-844d-473cc1411d2d\" class=\"plotly-graph-div\" style=\"height:750px; width:1350px;\"></div>            <script type=\"text/javascript\">                require([\"plotly\"], function(Plotly) {                    window.PLOTLYENV=window.PLOTLYENV || {};                                    if (document.getElementById(\"a3ac14ff-47a6-4d83-844d-473cc1411d2d\")) {                    Plotly.newPlot(                        \"a3ac14ff-47a6-4d83-844d-473cc1411d2d\",                        [{\"hovertemplate\":\"VC Deals [USD]: %{y:,.2f}B\\u003cextra\\u003e\\u003c\\u002fextra\\u003e\",\"name\":\"VC Deals [USD]\",\"x\":[\"2024-10-01T00:00:00\",\"2024-09-01T00:00:00\",\"2024-08-01T00:00:00\",\"2024-07-01T00:00:00\",\"2024-06-01T00:00:00\",\"2024-05-01T00:00:00\",\"2024-04-01T00:00:00\",\"2024-03-01T00:00:00\",\"2024-02-01T00:00:00\",\"2024-01-01T00:00:00\",\"2023-12-01T00:00:00\",\"2023-11-01T00:00:00\",\"2023-10-01T00:00:00\",\"2023-09-01T00:00:00\",\"2023-08-01T00:00:00\",\"2023-07-01T00:00:00\",\"2023-06-01T00:00:00\",\"2023-05-01T00:00:00\",\"2023-04-01T00:00:00\",\"2023-03-01T00:00:00\",\"2023-02-01T00:00:00\",\"2023-01-01T00:00:00\",\"2022-12-01T00:00:00\",\"2022-11-01T00:00:00\",\"2022-10-01T00:00:00\",\"2022-09-01T00:00:00\",\"2022-08-01T00:00:00\",\"2022-07-01T00:00:00\",\"2022-06-01T00:00:00\",\"2022-05-01T00:00:00\",\"2022-04-01T00:00:00\",\"2022-03-01T00:00:00\",\"2022-02-01T00:00:00\",\"2022-01-01T00:00:00\",\"2021-12-01T00:00:00\",\"2021-11-01T00:00:00\",\"2021-10-01T00:00:00\",\"2021-09-01T00:00:00\",\"2021-08-01T00:00:00\",\"2021-07-01T00:00:00\",\"2021-06-01T00:00:00\",\"2021-05-01T00:00:00\",\"2021-04-01T00:00:00\",\"2021-03-01T00:00:00\",\"2021-02-01T00:00:00\",\"2021-01-01T00:00:00\"],\"y\":[544450000,659310000,638900000,542100000,479150000,782550000,954490000,1045047928,551910000,709200000,586930000,767050000,343680000,381338000,267750000,460000000,345082000,624900000,547600000,793249000,813070000,573691000,761000000,1272765000,1148820000,1613640000,1152950000,974000000,1303910000,3037200000,2226500000,3673650000,2795436900,2598270000,3657180000,7078710000,3740775000,3139910000,3222690000,2621150000,2258140000,3553520000,1631130000,2636790000,1635150000,1171580000],\"type\":\"bar\"}],                        {\"template\":{\"data\":{\"histogram2dcontour\":[{\"type\":\"histogram2dcontour\",\"colorbar\":{\"outlinewidth\":0,\"ticks\":\"\"},\"colorscale\":[[0.0,\"#0d0887\"],[0.1111111111111111,\"#46039f\"],[0.2222222222222222,\"#7201a8\"],[0.3333333333333333,\"#9c179e\"],[0.4444444444444444,\"#bd3786\"],[0.5555555555555556,\"#d8576b\"],[0.6666666666666666,\"#ed7953\"],[0.7777777777777778,\"#fb9f3a\"],[0.8888888888888888,\"#fdca26\"],[1.0,\"#f0f921\"]]}],\"choropleth\":[{\"type\":\"choropleth\",\"colorbar\":{\"outlinewidth\":0,\"ticks\":\"\"}}],\"histogram2d\":[{\"type\":\"histogram2d\",\"colorbar\":{\"outlinewidth\":0,\"ticks\":\"\"},\"colorscale\":[[0.0,\"#0d0887\"],[0.1111111111111111,\"#46039f\"],[0.2222222222222222,\"#7201a8\"],[0.3333333333333333,\"#9c179e\"],[0.4444444444444444,\"#bd3786\"],[0.5555555555555556,\"#d8576b\"],[0.6666666666666666,\"#ed7953\"],[0.7777777777777778,\"#fb9f3a\"],[0.8888888888888888,\"#fdca26\"],[1.0,\"#f0f921\"]]}],\"heatmap\":[{\"type\":\"heatmap\",\"colorbar\":{\"outlinewidth\":0,\"ticks\":\"\"},\"colorscale\":[[0.0,\"#0d0887\"],[0.1111111111111111,\"#46039f\"],[0.2222222222222222,\"#7201a8\"],[0.3333333333333333,\"#9c179e\"],[0.4444444444444444,\"#bd3786\"],[0.5555555555555556,\"#d8576b\"],[0.6666666666666666,\"#ed7953\"],[0.7777777777777778,\"#fb9f3a\"],[0.8888888888888888,\"#fdca26\"],[1.0,\"#f0f921\"]]}],\"heatmapgl\":[{\"type\":\"heatmapgl\",\"colorbar\":{\"outlinewidth\":0,\"ticks\":\"\"},\"colorscale\":[[0.0,\"#0d0887\"],[0.1111111111111111,\"#46039f\"],[0.2222222222222222,\"#7201a8\"],[0.3333333333333333,\"#9c179e\"],[0.4444444444444444,\"#bd3786\"],[0.5555555555555556,\"#d8576b\"],[0.6666666666666666,\"#ed7953\"],[0.7777777777777778,\"#fb9f3a\"],[0.8888888888888888,\"#fdca26\"],[1.0,\"#f0f921\"]]}],\"contourcarpet\":[{\"type\":\"contourcarpet\",\"colorbar\":{\"outlinewidth\":0,\"ticks\":\"\"}}],\"contour\":[{\"type\":\"contour\",\"colorbar\":{\"outlinewidth\":0,\"ticks\":\"\"},\"colorscale\":[[0.0,\"#0d0887\"],[0.1111111111111111,\"#46039f\"],[0.2222222222222222,\"#7201a8\"],[0.3333333333333333,\"#9c179e\"],[0.4444444444444444,\"#bd3786\"],[0.5555555555555556,\"#d8576b\"],[0.6666666666666666,\"#ed7953\"],[0.7777777777777778,\"#fb9f3a\"],[0.8888888888888888,\"#fdca26\"],[1.0,\"#f0f921\"]]}],\"surface\":[{\"type\":\"surface\",\"colorbar\":{\"outlinewidth\":0,\"ticks\":\"\"},\"colorscale\":[[0.0,\"#0d0887\"],[0.1111111111111111,\"#46039f\"],[0.2222222222222222,\"#7201a8\"],[0.3333333333333333,\"#9c179e\"],[0.4444444444444444,\"#bd3786\"],[0.5555555555555556,\"#d8576b\"],[0.6666666666666666,\"#ed7953\"],[0.7777777777777778,\"#fb9f3a\"],[0.8888888888888888,\"#fdca26\"],[1.0,\"#f0f921\"]]}],\"mesh3d\":[{\"type\":\"mesh3d\",\"colorbar\":{\"outlinewidth\":0,\"ticks\":\"\"}}],\"scatter\":[{\"marker\":{\"line\":{\"color\":\"#283442\"}},\"type\":\"scatter\"}],\"parcoords\":[{\"type\":\"parcoords\",\"line\":{\"colorbar\":{\"outlinewidth\":0,\"ticks\":\"\"}}}],\"scatterpolargl\":[{\"type\":\"scatterpolargl\",\"marker\":{\"colorbar\":{\"outlinewidth\":0,\"ticks\":\"\"}}}],\"bar\":[{\"error_x\":{\"color\":\"#f2f5fa\"},\"error_y\":{\"color\":\"#f2f5fa\"},\"marker\":{\"line\":{\"color\":\"rgb(17,17,17)\",\"width\":0.5},\"pattern\":{\"fillmode\":\"overlay\",\"size\":10,\"solidity\":0.2}},\"type\":\"bar\"}],\"scattergeo\":[{\"type\":\"scattergeo\",\"marker\":{\"colorbar\":{\"outlinewidth\":0,\"ticks\":\"\"}}}],\"scatterpolar\":[{\"type\":\"scatterpolar\",\"marker\":{\"colorbar\":{\"outlinewidth\":0,\"ticks\":\"\"}}}],\"histogram\":[{\"marker\":{\"pattern\":{\"fillmode\":\"overlay\",\"size\":10,\"solidity\":0.2}},\"type\":\"histogram\"}],\"scattergl\":[{\"marker\":{\"line\":{\"color\":\"#283442\"}},\"type\":\"scattergl\"}],\"scatter3d\":[{\"type\":\"scatter3d\",\"line\":{\"colorbar\":{\"outlinewidth\":0,\"ticks\":\"\"}},\"marker\":{\"colorbar\":{\"outlinewidth\":0,\"ticks\":\"\"}}}],\"scattermapbox\":[{\"type\":\"scattermapbox\",\"marker\":{\"colorbar\":{\"outlinewidth\":0,\"ticks\":\"\"}}}],\"scatterternary\":[{\"type\":\"scatterternary\",\"marker\":{\"colorbar\":{\"outlinewidth\":0,\"ticks\":\"\"}}}],\"scattercarpet\":[{\"type\":\"scattercarpet\",\"marker\":{\"colorbar\":{\"outlinewidth\":0,\"ticks\":\"\"}}}],\"carpet\":[{\"aaxis\":{\"endlinecolor\":\"#A2B1C6\",\"gridcolor\":\"#506784\",\"linecolor\":\"#506784\",\"minorgridcolor\":\"#506784\",\"startlinecolor\":\"#A2B1C6\"},\"baxis\":{\"endlinecolor\":\"#A2B1C6\",\"gridcolor\":\"#506784\",\"linecolor\":\"#506784\",\"minorgridcolor\":\"#506784\",\"startlinecolor\":\"#A2B1C6\"},\"type\":\"carpet\"}],\"table\":[{\"cells\":{\"fill\":{\"color\":\"#506784\"},\"line\":{\"color\":\"rgb(17,17,17)\"}},\"header\":{\"fill\":{\"color\":\"#2a3f5f\"},\"line\":{\"color\":\"rgb(17,17,17)\"}},\"type\":\"table\"}],\"barpolar\":[{\"marker\":{\"line\":{\"color\":\"rgb(17,17,17)\",\"width\":0.5},\"pattern\":{\"fillmode\":\"overlay\",\"size\":10,\"solidity\":0.2}},\"type\":\"barpolar\"}],\"pie\":[{\"automargin\":true,\"type\":\"pie\"}]},\"layout\":{\"autotypenumbers\":\"strict\",\"colorway\":[\"#636efa\",\"#EF553B\",\"#00cc96\",\"#ab63fa\",\"#FFA15A\",\"#19d3f3\",\"#FF6692\",\"#B6E880\",\"#FF97FF\",\"#FECB52\"],\"font\":{\"color\":\"#f2f5fa\"},\"hovermode\":\"closest\",\"hoverlabel\":{\"align\":\"left\"},\"paper_bgcolor\":\"rgb(17,17,17)\",\"plot_bgcolor\":\"rgb(17,17,17)\",\"polar\":{\"bgcolor\":\"rgb(17,17,17)\",\"angularaxis\":{\"gridcolor\":\"#506784\",\"linecolor\":\"#506784\",\"ticks\":\"\"},\"radialaxis\":{\"gridcolor\":\"#506784\",\"linecolor\":\"#506784\",\"ticks\":\"\"}},\"ternary\":{\"bgcolor\":\"rgb(17,17,17)\",\"aaxis\":{\"gridcolor\":\"#506784\",\"linecolor\":\"#506784\",\"ticks\":\"\"},\"baxis\":{\"gridcolor\":\"#506784\",\"linecolor\":\"#506784\",\"ticks\":\"\"},\"caxis\":{\"gridcolor\":\"#506784\",\"linecolor\":\"#506784\",\"ticks\":\"\"}},\"coloraxis\":{\"colorbar\":{\"outlinewidth\":0,\"ticks\":\"\"}},\"colorscale\":{\"sequential\":[[0.0,\"#0d0887\"],[0.1111111111111111,\"#46039f\"],[0.2222222222222222,\"#7201a8\"],[0.3333333333333333,\"#9c179e\"],[0.4444444444444444,\"#bd3786\"],[0.5555555555555556,\"#d8576b\"],[0.6666666666666666,\"#ed7953\"],[0.7777777777777778,\"#fb9f3a\"],[0.8888888888888888,\"#fdca26\"],[1.0,\"#f0f921\"]],\"sequentialminus\":[[0.0,\"#0d0887\"],[0.1111111111111111,\"#46039f\"],[0.2222222222222222,\"#7201a8\"],[0.3333333333333333,\"#9c179e\"],[0.4444444444444444,\"#bd3786\"],[0.5555555555555556,\"#d8576b\"],[0.6666666666666666,\"#ed7953\"],[0.7777777777777778,\"#fb9f3a\"],[0.8888888888888888,\"#fdca26\"],[1.0,\"#f0f921\"]],\"diverging\":[[0,\"#8e0152\"],[0.1,\"#c51b7d\"],[0.2,\"#de77ae\"],[0.3,\"#f1b6da\"],[0.4,\"#fde0ef\"],[0.5,\"#f7f7f7\"],[0.6,\"#e6f5d0\"],[0.7,\"#b8e186\"],[0.8,\"#7fbc41\"],[0.9,\"#4d9221\"],[1,\"#276419\"]]},\"xaxis\":{\"gridcolor\":\"#283442\",\"linecolor\":\"#506784\",\"ticks\":\"\",\"title\":{\"standoff\":15},\"zerolinecolor\":\"#283442\",\"automargin\":true,\"zerolinewidth\":2},\"yaxis\":{\"gridcolor\":\"#283442\",\"linecolor\":\"#506784\",\"ticks\":\"\",\"title\":{\"standoff\":15},\"zerolinecolor\":\"#283442\",\"automargin\":true,\"zerolinewidth\":2},\"scene\":{\"xaxis\":{\"backgroundcolor\":\"rgb(17,17,17)\",\"gridcolor\":\"#506784\",\"linecolor\":\"#506784\",\"showbackground\":true,\"ticks\":\"\",\"zerolinecolor\":\"#C8D4E3\",\"gridwidth\":2},\"yaxis\":{\"backgroundcolor\":\"rgb(17,17,17)\",\"gridcolor\":\"#506784\",\"linecolor\":\"#506784\",\"showbackground\":true,\"ticks\":\"\",\"zerolinecolor\":\"#C8D4E3\",\"gridwidth\":2},\"zaxis\":{\"backgroundcolor\":\"rgb(17,17,17)\",\"gridcolor\":\"#506784\",\"linecolor\":\"#506784\",\"showbackground\":true,\"ticks\":\"\",\"zerolinecolor\":\"#C8D4E3\",\"gridwidth\":2}},\"shapedefaults\":{\"line\":{\"color\":\"#f2f5fa\"}},\"annotationdefaults\":{\"arrowcolor\":\"#f2f5fa\",\"arrowhead\":0,\"arrowwidth\":1},\"geo\":{\"bgcolor\":\"rgb(17,17,17)\",\"landcolor\":\"rgb(17,17,17)\",\"subunitcolor\":\"#506784\",\"showland\":true,\"showlakes\":true,\"lakecolor\":\"rgb(17,17,17)\"},\"title\":{\"x\":0.05},\"updatemenudefaults\":{\"bgcolor\":\"#506784\",\"borderwidth\":0},\"sliderdefaults\":{\"bgcolor\":\"#C8D4E3\",\"borderwidth\":1,\"bordercolor\":\"rgb(17,17,17)\",\"tickwidth\":0},\"mapbox\":{\"style\":\"dark\"}}},\"title\":{\"font\":{\"color\":\"#000000\",\"size\":29,\"weight\":\"bold\"},\"pad\":{\"t\":0,\"b\":0},\"text\":\"Total VC Deals\",\"x\":0.055,\"y\":0.94,\"xanchor\":\"left\",\"yanchor\":\"top\"},\"font\":{\"color\":\"#7f7f7f\"},\"legend\":{\"font\":{\"color\":\"#7f7f7f\",\"size\":17},\"orientation\":\"h\",\"yanchor\":\"top\",\"y\":0.98,\"xanchor\":\"left\",\"x\":0.02,\"bgcolor\":\"rgba(255, 255, 255, 0.8)\"},\"xaxis\":{\"tickfont\":{\"color\":\"#7f7f7f\",\"size\":17},\"title\":{},\"tickformat\":\"%b '%y\",\"dtick\":\"M3\",\"tickangle\":0,\"tickmode\":\"array\",\"ticktext\":[\"Jan '21\",\"Apr '21\",\"Jul '21\",\"Oct '21\",\"Jan '22\",\"Apr '22\",\"Jul '22\",\"Oct '22\",\"Jan '23\",\"Apr '23\",\"Jul '23\",\"Oct '23\",\"Jan '24\",\"Apr '24\",\"Jul '24\"],\"tickvals\":[\"2021-01-31T00:00:00\",\"2021-04-30T00:00:00\",\"2021-07-31T00:00:00\",\"2021-10-31T00:00:00\",\"2022-01-31T00:00:00\",\"2022-04-30T00:00:00\",\"2022-07-31T00:00:00\",\"2022-10-31T00:00:00\",\"2023-01-31T00:00:00\",\"2023-04-30T00:00:00\",\"2023-07-31T00:00:00\",\"2023-10-31T00:00:00\",\"2024-01-31T00:00:00\",\"2024-04-30T00:00:00\",\"2024-07-31T00:00:00\"],\"showgrid\":false,\"ticks\":\"outside\",\"ticklen\":8,\"tickwidth\":1,\"linecolor\":\"#7f7f7f\",\"linewidth\":1,\"mirror\":true},\"yaxis\":{\"tickfont\":{\"color\":\"#7f7f7f\",\"size\":17},\"title\":{},\"showgrid\":false,\"ticks\":\"outside\",\"ticklen\":8,\"tickwidth\":1,\"range\":[267750000,7078710000],\"mirror\":true,\"side\":\"left\",\"showticksuffix\":\"none\",\"showtickprefix\":\"none\",\"showticklabels\":true,\"tickson\":\"labels\",\"tickmode\":\"array\",\"ticktext\":[\"0.27B\",\"1.24B\",\"2.21B\",\"3.19B\",\"4.16B\",\"5.13B\",\"6.11B\",\"7.08B\"],\"tickvals\":[267750000.0,1240744285.7142859,2213738571.4285717,3186732857.142857,4159727142.857143,5132721428.571428,6105715714.285714,7078710000.0],\"linecolor\":\"#7f7f7f\",\"linewidth\":1},\"width\":1350,\"height\":750,\"showlegend\":true,\"images\":[{\"layer\":\"above\",\"opacity\":0.15,\"sizex\":0.36,\"sizey\":0.36,\"source\":\"data:image\\u002fpng;base64,iVBORw0KGgoAAAANSUhEUgAAAfQAAABmCAYAAAA9D2N2AAA46ElEQVR4nO2deZgcVbn\\u002fv++p7llq6e4ZZggEhAHDGkUkG8gWNtkFl7iCF+9V+ImoKCTqRa9zrxsQ4OJFUK8LXlFcoggIYccge9jBIEGWADEhZJmlq6on013n+\\u002ftjJphllqruqu5JrM\\u002fzAA\\u002fd55z37Z7q857znve8ryAlEm1tbbuUywMzScyCYCYg71BizCoWi0sbrVtKSkpKyj8vmUYrMJEpFAqFcrk8g8KZAGYKMGv94MCkNxtw6F86o1sbpWNKSkpKSgqQGvRRsRzry4Pl9d8GIEOGGxv+k5KSkpKSMuFIDfpoaB4BQBqtRkpKSkrKPyAp+Xx+ShAEMyGYDmKx53m\\u002farReE4HUoI+G\\u002fGNnnpKSkpLSGDo6zMnr12MGiZkEZtiONZ1kGwCAgEB+CiA16EgNekpKSkrKBKOtrS0\\u002fWBn4HrUc4Ze40zjNU0\\u002fqMKlBT0lJSUmZUFQqA0dS47Q0cikaqtEKpKSkpKSkbEwAaW+0DlsjqUFPSUlJSUnZBkgNekpKSkrKRCP1tVdBatBTUlJSUlK2AVKDnpKSkpKSsg2QGvSUlJSUlJRtgNSgp6SkpKSkbAOkBj0lJSUlZUIhkDQorgpSg56SkpKSkrINkBr0lJSUlJStmTT16zCpQU9JSUlJSdkGSA16SkpKSkrKNkBq0FNSUlJSUrYBUoOekpKSkjLRSKPcqyA16CkpKSkpKdsAdamHPmXKlOZVq1bZmUzGKpfLlmEYgzvvvPNrS5YsGayH\\u002fH8Wuru71aWXXtoGoBNAu1LBoNaG29RUKXZ17fvGY489Vm60jnHS3d2tLrvssoKI5CtSyRuaWZHsmpaWljdWrVrlNVq\\u002f0ejo6HAGBgbeQoM7g1AIUFZKrc9mK8vWrSstb7R+cdHV1dXium+0Dwyodp3RWVVRA5lMprTTTjut2JZ++52dnXYQBG2Dg4O2NrSpAlVqamoqKqV616xZU2y0fkmTz+fbgiDYSUTKTU0VV+sW9+ijj3YXLFgQ1DDsVhm53tHR4ZTL5Y6KVPIqUJZSwfpKRdazlWu81d7rIsner4\\u002f9S8vn87tXKpVZEMwiOAvk\\u002fgBaRmiqAVkB4TKhvAjIHdls9ube3t7euHWqBss2byd5TJi2klXv9Hq9JxNWaRNmz56defTRRw+mcAaoDwBwAIk9MLrXZb1AlgB4kgr3Z1X2D319fT3107h22tvbc4ODg8dTOIvUs0AcgJGfLQDwAXlGFO9TwP1A5s\\u002fFYnFtPfXdgG3b+wDBURoyW4BDSW4\\u002fWlsRFAlZooA7DQM39PX5j9ZR1aqZNGmS5fvFowLiaAGngrIPwR1HaR5AsAyQvyjgDsPI3tLX1\\u002fdSPfWtFtu2tweCw4f+lnw7IHuSnDRaexFZTXApIEuEcg9M\\u002fMlb7b1eR5VjxcybByDAyQD2F2I3CLpI5kdqO\\u002fTZ8YCI3Keg7t9ll10eC7uQsxzrDGp9dZi2AvmZ5\\u002fmfiPAxYiGfz+9WqVQOpvBggPsJZA+SnWN0GRCRl0EsHp6D7+zr63s5Tp1iMei2bXdS+C+g\\u002fhSJPWsYqiyQP4ngesPI\\u002froWg9PV1dWydu3ad2pdmQVgJ88rzY3SfyIa9O7ubnXxpRefIORHATmeZKGG4QYBuU0Jf1Ys+n+oZeXY0WFOXr+es7TGTBE84rql62rQawscxzlE6+CTBOcAMKscpgyRG8SQH7m97h1Jr5SHdi3lj2riEwCn1TDUa6LUlU2Zph\\u002f09PT0xabgOEyePNksFosHaK1nAljled4vR2pn2\\u002fZsUs8leBSA5qoFCh5UMC6fPn36dYsWLapUPU4COI7TQQYf0sTpAGfVOp5AHgd4DaB+5Xneqjh0TAqSYhfsYxjwVBAnA9y5huFKAvkNIJd5nvfMWA0nqkG3LOvtIvwQwQ8Ob6BqRB5WwmtbWqyr4\\u002fDm1GTQHcc5VLNyDolTATTVqszGiEgvRL7duV3nFcuWLRsYqy1JyeVye2rRs6g5C8QsgPsByA438XyvZEeRP5EM+rRp07LPPffs2QQ+D2C3uMcXyJM08O9+v3\\u002fLeG07OzvtUqk0fWiXzJnD3\\u002fVO\\u002fxhMrvBd\\u002f3Nx6JXLtc6qBPLdOCbRTRC8qIB5cS88AKBQKBTK5cF5BD+P6hcfWyAi\\u002fSC\\u002f39zc+u1169b1xzUuAMyZM8dYuHDhVCrOVMRMEjMJvg2AAQACud3z\\u002fGM37pPLtc4MNC4kcUScukDwoih1jtfv3RrruFWQy+X20LoyT5MfR8zz2zAVUfi10PiO67rPJjB+1QzNqeapmtJNcr+4xxfI7cjIpV6fd\\u002ftI708kgz70XVjvCci5IA5OQoaI9ApwlYhxWS2exKoMutlh7igDvIzEh6sVHIHXRKmvzT1v7jXd3d16Ez0c85NCfBDAjHF2q1utQbdtezahryS5bxLjb4yI3NnSzDPWri39fePXrU5rB5bYLcDBw3qMHkwpcqXv+ufUosfkyZPNvr7eKwh+AgmepYnInQL1+bgmU8uxzgB5Kcn2OMYbGVmhhJ933dLvah3JcqzzQf0eDh1dWKNKhNzqef7xwPCOLWfPo9bfRIIxOCJYkDGazmrEsZBt252kvojgv6A+gcMUwW9amnH+5r+9RuA45ila4z8JviNxYYL7FYyzXNddsvHLE8Wg27Z9JKH\\u002fh+TUJMbfHBFZS8FXvH7vx9V4ESM9rN3d3cq2W8+RATxXJ2MOAG+h1j+bf8nFt+VyuU0mSiG+RfKYGl3PExKr09rBslt\\u002foRn8qR7GHABIHj2wXp5yHPPkTV4f4EkgzyL5NiQ8weXz+bf29fc+SPBfkXBgDMmjNYPHLMv6SC3jTJ482bQs82fU+upkjTkAcLImFpi2+Yf29vZctaM4jrMntZ5P4lCMYcw3CAWGAn5s27qJWl+IhANqScwpB4OLh+IP6ofpmGcS+vnhxWS9bgEJiQ+X1uM5y7K+SLIhAWGFQqFg2uYfAs3r62LMAYA4WDN4wrZbP7vFOw3Etu1Oy279tWZwV72MOQCQ3A6a\\u002f2s55p\\u002fb21sjH2+EfmAdx+m4+JKL7tXEFSSrnkiqheTRlaD8qGVZsbt\\u002fJhpWzjoOJT5H4mP1lk1yu0DzRts2v7XhNcX63IZwHGfPSlB+MAkX3xi0EPpa0za\\u002fXk3nrq6ulr7+npuHd3P1gzx1\\u002feDAQ\\u002fl8fvdquisVRPkNy6RJkyx\\u002fwFtI8IRq5FUFMYXQDzqOc2jSoqZOndpkWeZPoPnDhm0QCJvQl1qOdV1nZ2ckj2Kt5HKtMwfL658AeWo95Q6T1cT\\u002fWJb54+7u7oZfpXYc512a+gkSH2qYEsQh6wflCStnHTt+438Q6ssrFApdmpX7QbyrOu1iYzeIvi+Xa505\\u002fP\\u002fbXPIBy7I+xkDfOFrkaL3Q5L+btvk\\u002f9dotbLdd606BrtwxTpRocpDdlm39d5Qus2fPzqxe\\u002fcbvSMxOSKsxIblPuTJ4V0eHOTlRQULT9fr\\u002fCOKQROWMAMm8ZnCD4zh7JSXDsqxJL7\\u002fy0p+GvUKNhzzVL3n3FwqFXeshzrJaP18JcB+ArnrIGw2C\\u002fzZ\\u002f\\u002fkU\\u002fa6RRNx3zzEBX7tkkLqhBkOxgoBfatvmZsH3G\\u002feKsgrV\\u002fuTz4YI3R67FBwgm03GoVrP0brUvcWFbrFwh9Df4RzNdYyM86jvW\\u002fSN71LQPrcQ2AXZKUM74e+lzTMT8Ztv0jjz0yl+CJSeoUgq7SAG6ZMmVK9RHm40DisNiD3yLJZ1vAykLbtmNf7JkF852EfmQCbFY2geR+5crgI0l7JyzH+gqByzFB5hwCp8+ff9HP0IB76JbV+gVo\\u002fhB1ys8SEqXJ71mO9aVQjcd6M5drnYkK7yG4Qzy6xQPJNlR4B0mn0brEhWWZ3yZwGSZYQgVNflKToR6manEc66xGGoxN0LzKcZyDxmtm2\\u002fY+1LoqN33ckNzv9ddXfK3ReiQKsTuhr41zSKtg7Y8y7wXwljjHjQuSnYGu3GnlrOOSGN90zE9S628nMXYtEDgdZCRvWa0MbaZwWT1lRoFaX2hZ1hfHazeqQd9uu9adgkCub8R5eRhIdiDGa0GNxMpZpxP8SqP1GIPEXH9TpkxpJvBfSY1fBVnN4MfTpk0bc8dCBP+BWu5dx4wm51kFqz6BTA2C5NGOY74njrFs296eZX0Dxg8IbDRN0Px13EcOjtP6Xmj+IM4x4yRiHENNmyDTMU8icEktY9QDQs\\u002ffPGB5c0Z0Ley8886t63rW3YDRMz2FRiCvU\\u002fAwgFdF5DVoLIdCM4AOaL0dFHamliMBJnsOOEGxbXtfHQQx\\u002fbBkuQB\\u002fAbBSBCtJrhGRggZ2ALCDgHuS2DseWfGwYtWK01DNubnABeSXQrlPKfUIyR4R0QDaSe5P4YEgPzZWVrbRILnvc88\\u002f90UAF430\\u002fnbbte5UGsAHIusMQETuAHmzYeBhrY2XREQHzUFWSjIVCgdQcw7A6VUMnWWZP5kzZ86sMCk3yfg9QSKyFuCSoUx3fJaiXCEtilhC5khMIxgmqn5UNDl\\u002f2rRpt9SSxnjKlCnNK17\\u002f+\\u002fWI54hnvQheBrACghWgWgvqdojsAGAHkm9FjRsPknmNyo2FQmFWHJk0h\\u002fI74FcYzjNQG7JieM5ZAWAlwNUTfc7ZGNu2p2oGv0KNNxpEZBWB+yB43AD+AhhrSfbojG5WFdWmRe+uiFkanA1iSpViVEBe6zjOjGKx+NyIeoz0ommbV4H8dJVCAchyUfytQua6884778HN74+PhG3bb6PwOFKfVcMHHo0JeQ990qRJlusVHyFZ9dUcEXmawO+RwR\\u002f9Xv+J8doPpeYdPBmCUxJxc0e8h27arfdFTNawHiLfaMo0XTne5DZt2rTs0qVL368ZXIyoblWBO3P6rLaRspZZjjWXWl8cbTy5UShf8zzv6fGamnnzAKngWwQju1qV4P1hEubk8+b0coWPRB1\\u002fRERuEMqVc+fOvWu83\\u002fq0adOyzz\\u002f\\u002f\\u002fIGalbOqvsWh5FN+0f9xVX0BWJZ5NcEzqu0vImtB3KQUbzDN3O1j1Q2YMmVK88o3Vh5BzZNAvgc1uPcFcvsJJ5x4Qi050idPnmz29fc8WUuWMxE8J5DfKYUb+\\u002fq8R8e7L53P53cLgsGTCJxC4qhq5Y6qD+T\\u002fPM8\\u002fI2q\\u002f2bNnZx55ZPHDBA+oSq7IOgivVsj8\\u002frzzzns4jJ0DNmS+rJxJ4GOoZiEh8tC88+cdPJK8LQy6bduHaQaLRnpvfDnSC5Fv7ThpxyteeOGF9ZEVxfCX\\u002fNgjp5P6qyCqupIzAhPSoFuW+X8EPx61HwCIYKkAF7hu6ffV9AeAXK71wEDjIhKHVTvGCIqFNuiTJk2yim5\\u002fD0IG5IjIOho4xu\\u002fzH4+i0lAxFP9STX4qZBdflPqGV\\u002fQuHOlNyzL\\u002fSPCk0AooucAv+pHPKq2cdToD\\u002fX2E3NEKZKGIOsN13dXjtY3FoAteNCTziWKxeG813S3LOpqivx91AS+Cez23VNUza9vmWZrVuZqH57fvdG7X+T\\u002fjZa8ciTlz5hg333rzGdDorjaFqgAXeV7py9X0BQDTNq8AWW3ip5cF6quu6\\u002f6q2tTJSWQYrNagm7b5NZCRj\\u002ftEZJ0A\\u002f1EotP90+fLlpaj9N2AVrHegor9L4vDIOig11yt6WxwTbLI66OrqatEIfoJqjDnkJ4bKvNUrepdUa8wBYNGiRRWv6F09c\\u002fqsvQSYX+04E51crvXAKo35oBJ8dsb0WW+rxZgDQH9\\u002f6SHPLR0OJSeLyBu1jLURoZ8d13UPQpToWiUfi2rMAWDNmjVF1\\u002fXPVCLjGVUK5OetLdhzNGMOAJDwHgURXFuNMQcAr9+7xlCZ44eOF8aSIc8I1Ls9zz8xjDGPA4Hc0pxtmVatMQcAz\\u002fPuLOTa3iGQcT1LG0PikPb29sg7Xdu2tycw+t91LESuGJ7fLq7GmAPAggULAr\\u002fo\\u002f2T7zu33EKW+AiByznoC51ebi8MqWPuDPLuKrhVRat5uXbvv7XnetbXUQejvLy323NKRYqjjBdKwIjW5XG4KyK9G7ihynRJjL9f1r6zFmAOA1+s95Rb9IyDyVQChdvcbIPXXR7r1sYlBX7169WeqcHcHSvA5z\\u002fM\\u002f2d\\u002ffvy5i31FZtGhRxfNK85RgzngT2tZIEMh\\u002fRu0jIm8YKnOE65a+F2cBC7\\u002fo39SUbZ4hkKfiGjMMVOwK3VjwYK35vV3XvwAiPxxxeMGfkZEZnuf\\u002fy1jpNzs7O22SbWFlGirbXYWqb1IsFu9VME7BCDkXRGQVlJx5wvEnvtPzvDtqkRMFgdy2446T3xtHsZgVK1b4TU3Np0ZcUMr68vrImSpJfVEVSWMGBOo03\\u002fU\\u002fF9f8tmzZsgGv6F2oxDhmKO4gEgZFX1VVfoiKvgQRXbwisk6JcaxX9ObHWfLW6\\u002fdubW7mDEAei2vMKAS6\\u002fA1EzM8vkJ\\u002fMO3\\u002fenGKxuCYuPUSEvut\\u002fSwx1AgA\\u002fdEfCpgRbeGre\\u002fONOnjzZhHBeRH08MdRJrlu6ImK\\u002f0Lhu6XeSUYeIYJupK+w4zsEE3x2ljwiea8o2zygWiw8koVNPT8+rtu0cLJCbkxh\\u002fRIhRy05ujlAWxSHSbDHnAnjtHwPjBUPhfZ5bOtzv88edXMrlckd4afL3\\u002fv7+v1Wj58a4rnv3ZguRASXy7dYWcw+\\u002f6P+oxrrT0RC8ZJrWB2rxwm1OT0\\u002fPqwIVLf2uZiQ3peM4e0b1iInI6oyBI0arNFcrrusuyhjZGSIYMcBpVIiDrZwVKf+BZVlHRT6\\u002fFrxoqMws13XvjtQvJOvWlZa3t7UfCpEbkhh\\u002fNMyC+c6oWeBE1OWu630q7Dl5VLx+7zYYMgdA6GBPapxtWdYmc+ibBr2v2Hd21IhgJca\\u002f1qMqktfrPQWlPgigfhNXBIhoq2XNSqTduYj0GCp7ck9Pz6vRNIvGqlWrPNt2PiQi4wZuxYGQoeMaKBFWr2OwZs2aomTUJ0XkDYE6b7ddd59aLJb+ELZ\\u002fpVIJH4shrMkltzEtTS1fEpG\\u002fiMIvmpta9nJd\\u002f4I4yi1GRBuS+fjq1atj95gNGQ2JcqYfqSSt1sGXEW13OqjEOLW\\u002fv\\u002fRQFDlR6evrezljNJ0YeadO\\u002fns0STwvSmsR6Tckc1J\\u002ff\\u002f8L0eREY\\u002fny5aX2QvtH6rlTlzK\\u002fgAhHgwL5ued6X0i65LLf7y9UIlEqVbZA4YyNX3jzASf1\\u002f4siXICLXNf9bZQ+teD1e7cqkc\\u002fXS15S5HLmjIgr5QCGfDjpH9YGVq1a5WUzTadU4QqMjlKhXbaC+PK7e33e7Z7rT\\u002fI877KobsSmpqA3dGNil7a2tlhS+K5bt67fc\\u002f23e8XS6Ukv7EZDBL8tFov3JyZAYcTjkJEguEPYlLe2bXcSPC2aLnJOUt6wzenr63tJoD6IKGfqxEGO44RKxes4zt4Rb0xQCU4b7WpU3CxfvrzU0sxTRSTx2vBDzwI+GLa9iKxTyoi0GKqFYtH7oQjuCdue1J\\u002fc+PhFAUNh9CDeGlqq4IG5c78UcYVYO67rXymCqoNwJgJBwPdHaS\\u002fA\\u002fNFqBidFb2\\u002fvMiVIPK+1kKENOolT2traGpoaFgBaWtqinKM2DVYGz0xMmTqTMeTSJMd3TOfXUY7WSoPy9nAtg48gQvClQH7uF\\u002f0fhW0fB8PHKpE8d2QQqiCQ1pUzEGlHikuLRf+PUXSplXXrSsuhJPECR2RwGiIkhKLgK3GemY+HiFBgfBphg+SIKblc7s3MlgoAyCDS2ZIhmS8ndZYwrmwl52FrLsoiEvq6k4j0ZLPNIyY3SZpi0b8RguR2YwAA9dcIjZvWD67\\u002fbb2rUG3OihUr\\u002fCjRudT6v3K51gOT1KkeiMjTfX3+o0nKGL7P\\u002fWSELqFiMDTl9AhjDjQ384II7WOjkCtcJpCVYdsTmBMmhz8Fc8KOKSK92Wzzt8ZvGT9ev3ebCBI5r38TwXsjNH7U6\\u002ffqurADANd1\\u002f4oIsUxk8GY8hQIATYQuiSiQ22q5qlIr\\u002ff3+IyL4daPkj0jIrFv5fH63SLV1RS6KIzNUtSgYiXphdt111wcAjJqUY0s4yy95D5kF852JKRWO2yK0bakE+JPpmGdOhNKQVUNG+czVi4GEX+QFGDdA0eq0doiSeU8Urlq3rrQ8tA4xsmLFCl8kfBpkkvmVb6wc8z730FW18Pk8KJjfyDnHUEgsBbbjOB2MUoRH4UdJn5uPhkD+J2xbbmS\\u002fVT6ff2uUUnFKGd+MqlzcCIwJm4N4LIJgMHwyEoGbd\\u002fKJ3R4Ig+u6f07yiGPJkiWDAvlzlD4kp6LMx0zbXNA4wy5RjVsLNH84\\u002f5KLn7Zt+0NTp06NdF1mIkBD\\u002flQPOSLycvi2Ia4P+pESmAwqZL4ToX3sTJ8+88dRdukI9Nifr6xnhx1KRPod0\\u002fluaNkJ0N9fWiwiCV3BDA5B+HS3FQPGuBkXk+KEE074U9g4JoL75\\u002fP5NgBQZV2eHVaIiKw+77zz6hIoMhbnn3\\u002f+fTEmQqkbpEQITJE7VqxYEUtkd01QXZ\\u002fs8KhmfAH5AZT5uGWbT1mONc+27fCejxpRSt0OIHJyEZJTNYNfL3vl5RWmbV5p5szju7q6WhJQMXaaVNOz9ZAj1KGfeZLjlrmkhL\\u002feJiL31PO8dCQWLVpUoSD0+TUhs8d8XyR0DXsCY6axrReCquaEcSExI7QOIn9q5LOwYMGCAERot3ulUjkAADIgwldoEt7WqLPzjenu7tambV4PYKsKOCIQPlJbcFOCqoRGKXVzoHViwVAzp8386SOPLv4MWV0UO8n9QO5H4CLTan1Nidwqwluam607k7rWVSwW15q2+e1q0kYCAMntAJyNAGe\\u002fsXpVybLMu0WwMJNpWtjb27ssXm1jYeDcc899rbu7O3FBWmQADO3lDHGEwZCBc4CAE+I3ZwhuChh2buN+3d3datR5mRGOG0QWhm2bJNls803rBweujHtcMvxVRwEeKhQKuwJDgWojthnx9dIICaBGjvkaqb+\\u002fcXxYieGj\\u002fhUOAHBXRojdQ\\u002f98tEr8znlYFNRdGsFWY9A7Ojocv+SFzt8suo4JXsagWCwuNe3Wl2LMq78JixYtqjiOc3bAyr2ovRb8WzT5KRCf8kte2bJb\\u002fwziJsPI3hT3tb\\u002fddt3tomWvvPQxErWWtWwleCKJEwfL62HZ5l8hXCg0Fu6111731lJVLC4E0lPHhXz4XBNqfPepQPZiyBhaw2i6GYgtdUDV5PPtd67rWTsAIIz3puXyyy9\\u002fC4BXNn9jypQpzStW\\u002fj1silyiBbdMhPRdPT09r1q2+QwZfjEWCmFX2HBqTX5tsLz+a7HK34KxlYl0eK+5NwAoSPiJOpPh0igykkSpYFmjdYjCwMBA6CtXItLjeV7idzLDI39JcvRisXh\\u002fAnn7sySOIvDflaD8N8s2n7Uc68tmh1lzSWBg6PxfSeZfESVdYwhI7kON8zSDu55b+tfXTdu8MpdrnRWnjMg6CRt\\u002f9DMyYy4AC4VCYdgbEga\\u002fr6\\u002fvxRh0qpnly5eXROSlsO3L5fKIldNWrVq1G0Im0xGRNd5qr2G51beEUY54Qm0ESFRVEGdrgDIUIKoARMgOl00+2UhIgmbVkOQa1SIi7RGahw+KqQMKSHxx4XmlL4UonlI1Q4ZSfwclvmZZ5h8dxzx1zpw5NdWDLhaLDxgq824RqTmn+UiQbAd5diXAQ5bdutS0zQsKhUIhCVljIZCGn6tWQ5Sc+6jDMx4NhjauY8wtWxTvGIMJFpOkYl1cTJ482UTIqoVbJ0MLVwUwdMRtNpttaMDIxrhvuKsAxFYsIHmCCAadE8qgo06Tnev6F4hSX0ayKX4NgicFmn9YeMtNS2y79QNVFboYplgs3k8DRyZdOYrEniC\\u002fWa4MvmDbrefMnj173ICw2GSDW6VBr1QqTujGdchSFpHQc4AWPWJuhkCCCDkbOLEMusS7qfF9f6u7WRIFAYYMOhm64gzPOeecCfPDHg4omCgJZsY1CCSj7AYnjCcEAEjWbSHnFb2LkJGZgCSaxAQASOyliQW2Y93e3t5atTvO7\\u002fMfb2pq3hsi30fEMohRIbmdJq545NHFT1s5K0o6z6qRmI8VxhcXD0qp0DsyISbMZmUIFVofRY74OZWmGUHghPr8BGOdAyuVSvgyzVshpNjAkMs97G5ILv7exaGrYyXNsAsldAq\\u002fRqNFwnsTKIXkNIkORaLkI695Qvb7\\u002fMfnzZ03S4mcE+lObpWQPHr9oDxj2\\u002faR1Y7R09PT57v+2RkD74Lgvjj1GwmS+zDQt1hW60VJJ6zhVupy14YOHeFGiVxWNVkiHBdokRGvUGo18usjI1GOJxJHEO8cWCgUtrkS3BuzIWWyArA6bKfMIHdNTKOIDAwMhA12mRCIjvLjCl9WtE7EEkgWhe7ubu26\\u002fpVdXbt1iVJnCOSJJOWRLGgGt9h26\\u002ftqGae\\u002fv\\u002fSw75YOzRiYJYLfIOFjIQLz5l9y0TW1HBuEE7P1YWgjyiQeqtBLHdkhbENF1T\\u002fi61pFWYhNsM+vQ3\\u002f+MAwHGvbEOeZEgkAfACggfIIWrY2GF8fYwEAwEKnUa6MRibTT\\u002fKc36BtYsmTJoFf0\\u002fs\\u002fz\\u002fAOUGG8TyHcgSKryXJMmfpnLmaETUIxGf39pseeWPpzNNO0AJWeK4E+IUk0rAiQ+aufMS5IYe0hApLKjEwatdfhgRU4wgybhDToVe0d8nYxSSGhiff5k5sC\\u002fJzDmhEC4waALIuQt1rGVsKwVFfDgRusQhWw2G\\u002fp7Jrh9XGU340AQoRJfgriuu8Tz\\u002fH\\u002f33dIehsrsLVDnieAuAHHe1W6pBLhu0qRJsUTE9vX19fhF\\u002f0eeWzqyuamlQ4nxIYH8PO5Mh9T4opWzjo1zzA1ItDridUSN6ZVwXXd1hOptLe3t7WHvbCfKUMAjdwvb3oAx4hU30zRDX30jWcjlclFu4iQKtYx4Fa+2Qbddgw4ZijnIAHgCCFeBhkPtvpqgWqEh5dityRPY09PTZ9nmapJhrpKocnngGAC\\u002fS1qv8Whvb915YD3f1mg9NqdYLC4FsBTAZR0dHc7AgHcMKSdBcCLJGr033Nl1ixcAiLU4TU9PTx+A3wL4bXd3t7rssoumay0nkTiJYM156RnoH0ydOnWvqDXeQ1BPgx7v0QHlbwAPCNN0cHDgBCB8TfakePTRRw8lETZCf\\u002fDYY499acGCBVu8sXr1ateyzTfC\\u002fh6CIDgewC8jqJoIjuN0BLpSs5dsBFaEbyp\\u002fF+GfsWmQ6+bPZrX\\u002fv8nrhNQ0roAVJZnvA0AGCo+HDYsjua\\u002fjOHsNT6YNYzgD0uxG6lANBO4FEOqMlpQTMQEM+uCgnDjRF07DKV6vA3AdScnnzZlBIKcQPA1AVbsugp9vb2+\\u002fcN26dSOeT9bKcOa1xcP\\u002f\\u002fMd227XuVBqUE4X8CInDUZ1h61q2bNkHAfwiTl2r1KVa4n7Y\\u002fgIglEEn8R5MAINOCU4K+y2IyHMLFiwYfQYnHgcQ7jaE6JMxAQy61vo4JLCIpGBZ6O9VyW+9ov\\u002fFuHVIGqW0egQRfkQBg9C1dZNi5cqV7wMQ5UrGhEDI8JXFBMfXmvgkDoYnua0GEWF\\u002ff+lhz\\u002fP\\u002ffd7cL3XBkJMAWVzFUOZAeeBDsSs4CmvXlv7uF\\u002f3\\u002f9dzSEdlM0x5K5Eeo4iiBov9fAupttTt0KoT+zRE8srOzM8Ld7fghKSBODt0euGfM9wX3h5cux06bNq3x17uGFhbxD6vk4bBtqfV7t8Zyx8p13TcgeChsBwHObUS2qg3MmTPHgOivN0r+SGTDph7Mhi8VSnLSwlsXfrx6rWrHtu19CdblrnMSdHd3a7\\u002ffv9n3\\u002fFmiVPQ0rTr8xBonfX19L7quf6ahMm8XiZh2lziwo6MjfEKVMEhdd+ixklXZRRGat3gl79yEVAmF45jvJxH6\\u002fNgQ3D32+8aYBn9jSBaWLv3rv4VtnwT5fP6tZDgvZlSaM80PInyeiK75l81\\u002fdxJ6JIkCAJHwJTJJblcur0+sCP14LLxt4UdjKIjREOadO++pKGlCqfV\\u002fNLJ2tob+JiZsQFQ0vKJ3tUAdGOXqiiB8ucUkKBaLS\\u002fO5wiyB3BKhm1Eqlw6KWZWt1qD39fW9KILQR4QCnN+o4LA5c+YYBL4RoctANtsypkE\\u002f7rjjHogSgKmJr+28886tEXSIlUow+F8Yiu2KnaHjswjXXwN+Pgk9kkQBQEZlfocIbncCn8vn86GjMOPCcZztGOhv1VtuXHR3d2sQf4jQpeuVV15qSEW5XK51JshQwZJx4zhOh+mYse8UPM97hoJ5YdsT3CGsN4qkWJb1Udu2Yw0gXLFiha+UcTqA0HeKqdkVpw5bO4SEPhcmmQ9YjjUYMiw333rzGST2DtteBDeMF+OxYMGCgIgy53ByT1\\u002fPZ8O3jw\\u002fLsvYj8eEkZYiS0HFJBI8zHfOkJPWJGwUAfX19LwkiletsqVTKf6jnedOcOXMMzeDXqDLIaaLADK6I0l4TF1qWFW8ZwXFoa2vLBxo\\u002fr6dMAJg2bVrWslrP1Qz+Bs0f27Z9RNwyCk7h2ohdxr0+mMu1zrIc6wFC\\u002f5LUF1ep2qgUi8W1ELktdAdGKbi07ZM1sr9ElA2LxhfqlVZ3A7Zt7yvkf0fpQyX\\u002fF6ZdRvFnkcbVutssmDXfuohCR0eHA+G1SNgjmFGZ30bqQH53OCvpVsFGX55cHqUjwXd4Je+X9QocWLjwpu+QPLoespLE7\\u002fMfR6RAFVgUfX293IDd3d1qcHD9tfU+1jBz5gnPLX32GQL\\u002fTQ6l4dTQn4tbzooVK\\u002fwoxx6VSmXURWt7e+vOlt36i0qAB0EeCAAEj7dte3YMqm5O6IyOCmiYy7SuMNxRQF9f30sQ+WOEkRU0f+U4zp5VahaJfD7fphHcEOGqGkTw3Lwvzgu1yOvvLz0EhA8IA9CKMq+3bTtKtbaqISn+gP9zklOTljX0LERIzUzs3tvf+\\u002fOEMzHGxpvG2PO8uyJHA5PvueSSi3+YZGRkd3e3spzWSwnMTUpGvVEwIu3SQewe6PLvkvaIkJT5l8z\\u002fb4InJClnYxzH2duyzFsQ8OYtFhHkKbZtHx6nvOEFaOjdWlNT0xYuzcmTJ5u2bXYPrMdSEh\\u002fDZmfMmsFPE1iAhdZZS3j3\\u002fAQkkYkzoxipNO9QKuDKjbUU7QlDe3t7rhIMXgdiSqSOSn17+OpjuObCqJkEd9EIros9wHIzSIqdM+eDPLWGUSI9M4bI\\u002fGjD8\\u002f22bdXtqLeWxcMmu2tDGedGHUCTn3xu6bN32bYdu5uvs7PTnj\\u002f\\u002f4huosdXdBxyL6dOn\\u002fx6C0FmcAIDEEX7Je6BQKCSST7+zs9O2HOv3ZPy74pHI5\\u002fNtlm19N9CVZ8aIpBci+FE+n4+tcMSll176rg0egDBks9k302cOn5Of1tvXu1STX8foVyd3C3TlN3FdO+zu7lYgTwzbXpGJ3J2vE4kkPejvLz0skFsjKULstX69PJLLtc5KQqd8Pv\\u002fW9YMDD5GYHaWfCJbOOGDGr6L0cd3S74bTD4eHOKQ04D+Yz+d3j9QvJJMnTzYtx\\u002fotNc5LYvzR6O\\u002f3\\u002figif43Sh+BXTNv8XtJXiW3b\\u002fLRlm0XLNpdYlnm1bZufNvPmtLCb5k0MerFYfFAEUc8YQeJQzeBRM2fGtrOz7db3eSX3CYJbVVBCGBYtWlQRqrOi9iP59nJl8BHLsmI9enAcZ0+\\u002f5D1QryA4y7KOqgTlvw0vHsaMaCWxRzkYvDGOnQJJ0ToIfUNDICtXrVrlAUMBmZZtPUjoawCOu2sjefTCW276VVdXV0stOgPAJZdcMgcRYkdIFXPip7q6GxOTpZTxeUQslkNwh0qAe0zH\\u002fFScblfHMd9TCcoPk9wncmeqzyxatChyXQAlmbMR9fOTUytBeXHcaYVzudwefX2994P8QJzjhkFEqARfjtyR\\u002fMzChTf\\u002f0ewwY69tMWXKlGbLtr6ryasAWCT3JXiGJq9ChY\\u002f+9blni6ZtPmjZ1ncty\\u002fpYLpfbY6TncYvzb4HxBYG8XoVOb0HAm0279f5qg5lIim3bh5t26\\u002f2a+H1kN1SDYMizvI3xPO9OQbiglk1lsZPQd1iWebNlWTXl1u\\u002foMCebtvmDQFeWkKxf4J3CLiTDV8sb2ik8XOvndRzrm1GOEyh48wjKMIwAYCT5JOa8sfqNRbVMAI7jHKIZXB2pk4lnqpW3LVMsFp9XItUELTZD839t23qi1mC5XK51lmW3Lgo0b4j0GxhGBNcOHY9Gp1gsPqeiupsxdFWZgb7VssxbrIK1fzWyN2B2mDuatnlVJSgvIVjTWLVQLPo3CuSmqP0IHi8D+Kttm2cP5dyvHStvvXvl6yseH8c72gzyQFJ\\u002fjtC\\u002fqATl523HWuM45ikbN9rCoLuu+wYgp6Na1xfxLs3gbss2n7as1gtt2z58LHfBpEmTLMuyjjJt83uWbb2qGSwC8a6qZG9lKGWcV22RDoInEPoJ0zZ\\u002fZ1nWR8Jer+rq6moxc+bxpm3+wC\\u002fxBZBnId57n+Mubvbec+9fQPBilEFJ7kPoJ03LvNFxnEiFeRzH2dOyW+\\u002fWZKTrSAp8c+Ls7e3tFYXvR+k\\u002fBGdhgM+btvm1KNGyhUKhYFmtFwa6cjsiBLmJyDPeaq+aBfk\\u002fBccff2K3iNxZTV+C72CgbzHt1vstq\\u002fXzYa\\u002fudnSYk03HPNOyzNsqAR4aTu0bGRFZ0tpi1ZQJsFBo\\u002f1bU474NEDyOZf24aZu\\u002ftyzrI2GPwqZMmdJs5azjTNv8PobmnE8DaHhGumy26bNRAmQ3QDKvySsXP7L4ZcuxvlLNcXNXV1eL6ZiftGzzL6zo20juG10P+ICxSYD1qJOvbZvf0GRchVgGAKwCZI0AazBURnJnCHYhGdv56Bh4vleKFFBm2ebtJI8J0zZjyMz+fv+RahRznNb3Bhq\\u002fR+2uxooI7iVkCQQrBbJSgWu0SBuIHQDsAM09CR6BJNPmivzAd\\u002f1Pj9fMsqyPErrqvNECeZKChxXwlIjxVDabfU1rrQAISSMIgl1IHgDRp5A4BNG\\u002f34oSY7Lrum9Gl1ud1g709Yuo8vsTkTUgbqTCHxTV4mKxuFpECAxV2HriiSfeUtblI4Q8BpDjSUauuKdE\\u002ftN1\\u002fe7x2uVy5oxKwFBBsCK4y3NLdblhYjrmmdAMlU9dRF3uud4XosrI5XLtFV1eDNZeRXAokx+fhmAloF4HsAZatwGYDMGOpOw9XBympt+3iKzJGNmZfX19L9eqs23bh2kGtwNornGoigjuJ+SZoc+P1w1g9WZzzh7Dc04s1QtHQoBrPK9UVVZNxzFPDTSvQ21\\u002fHy2QJwHeDajHlVKvGYaxvJwtD2TL2ZYgCJq1oVulInuSwTQIpgMynWSuBpnrM4YcurndGfNDWJb5E4L\\u002fWoPQicKENegAYFmt5xKIdAd1whLSoJMUy7Ee2HDda6Ihgl96bum0zV+3LOuLhL40JjGDAFaJiD0cqFfrom59awveunZtadwykfm8Ob1cYahndlsz6MCGtMb6wRon1XpRVmIc7bpu+FoQ42DbrR\\u002fQxG+wDWSCrMWgA4Btm9+K6r1rNKLUv3pFb4ujuDH\\u002fmCeccOKZELk+Ma1qQESewdBOf6vH80qXCxB7QpKJjIiwpanlgyKyttG6jMD6bKZ5RO\\u002fU3LlzL494p3csmgC8ZdhLVXvAlciPwxjzakZOYMw4qFov13WfpeBjCJ\\u002fbu3Eo+XScxhwYinpXIufEOWaciEjdbmq4rn8BRKo4TmsQIleOZMyBcQz6ggULgt123e1DAql71rAxEdyfzTQdBsFAo1WJC9f1vyzANY3WYwsELyS12Fi3bt1rMOSjmGCTqij1H729vctGeq+7u1u3NPMDgCRhOGvh1eZs8wWNVmJrwi\\u002f6NxlK3geB22hdRqEMJWf5Rf8nSQzuuv73lch\\u002fJTF2bcijgiqi0GvAK3qfgcj\\u002f1lNmVYhcNe\\u002f8eaMGz43rblmyZMmg5\\u002fn\\u002fApHuWBWrEoHcVMi1vbu3t7dXINvEDh0Y2rHOnfulMwS4qNG6\\u002fAN5VME4WERqPrcbDa\\u002fPu12JnI2JYtRFbnD73TEjgdetKy2XrJwUpdBLwqw3VOa0np6eyAE+\\u002f+wUi\\u002f4NQvUuAMsarcvGiMhqQ2WO8ot+okbGdf2vi1IT5rhPIE8ZyjiOrN8OHRiaf33XP0uUmgdg9PryjUTJBb7rf2ashEKhz0981\\u002f9PQ+F9IhI6BWXMBBD5mut671mxYoX\\u002f5mvbEN3d3drzSl9WgjmN3jUI5FbLtI4YuvWQLK7r\\u002f1CgTkeDj1AEctv2Hdt\\u002feEOg2lh4vd6TSowDRfC3eug2BmUo+UCxWLy3wXrEgqriCmiteJ73jBJjZqSUoAkikCebss3T6\\u002fU39YreF8VQH0fU8sIxI4K7m5tbDisWi2uRUIKh8fCK3nwx1IkNtHMjURalzvCL\\u002frjZDiMFRBSLpT8I1Nvqfa4uIquUGMf4rv\\u002fNTSdbhiotKpL0Tj7exBuuW\\u002fqdgnGgCJ6Pc9yQUIBLZsyYefLq1as3LCoSn2Q9z7tWiXF0o1zZAlyz446TT1m2bFnoY5xisfi8obIHisIvktRtNATyuhLj3X7Rj3yfNmVTXNddvduuux8lor6LBm4UBPKzfL5wcE9Pz6v1lOv1e9cI1EEQvFBPucNUBLiwa9fdj9+oelzD4ja8fu82JcY+E+KoWXCfEuMAr+iFylkSOcLRdd03fNd\\u002fr6HkPYA8Fl3DSAxC5CpQ3uG67hZpC0mEMugke2PXLGFc113Stevubxeo80Rk3fg9YuFVJcbRnleau1kmqrr8uFzXvcdQxjtEsKAe8oDh4Bsl\\u002f+Z5pY+\\u002f8MIL66P27+\\u002fvX+cVS6cL1DH1nAyHviPZ33XdRfUQVwcZDWfJkiWDnuudi6zMgMhD9ZQtIk8bKnOY5\\u002fmf2MgDWVc8z3u6vbDdfhD5qgiK9ZEqj0pWTfe80leWLFnyjyx2BhJNsToexWJxref5\\u002fyJQRwNS9Q2mahGRtVDyb17RP8x13b+E7Vf1lYVi0f+j7\\u002fnToeTkBD7wIER+0NLcOsV3\\u002fc94nrdq8wbDOXXD7dAhvTHrtwmVhDwAQ\\u002fEL3mUZIztFgEsARDY4YRCRPlHqK9t3TtrLdd27R2oSYbiaXGXFYnGt55Y+aKjMoTFGk4+EFshPQdnTL\\u002fo\\u002frXUwz\\u002fPu3L5j0ttFqS8JZGUcCo6AFsitGQMHeW7pgyP9LhKibu5PLZFiKRLRy+\\u002f1n\\u002fBd\\u002fyAYchIEDyYhYwMCeVKJ8aG5589750Q4Nlm+fHnJd\\u002f1vCYwpELkKEVPFhkVE+gX44oknnHig1+s9tUUDRjHoklj8jed5d\\u002fmePxOGnFQnw\\u002f4yRL6mxNjLL\\u002fo\\u002fDXP8tzEx5iZ29tTQ76PmewHOrGKIEiB3QuFG0fLH8SYry7LeTuinwwwsgns8tzQ7ijKW1TqfwBfwj0XPiN+ViKw2W63dN3JPJ4bZYe4oJX6Qgg+BOHA0ncIiIs8K+INstuXnYwVU2bZ9BIfKO264yz+a3ABKzo4zkMdxnIO0rnyawPsRQ0IcEVkL8upstvnK0SLZa2Xq1KlNL7\\u002f68mlCnFdNBqjNEcjrIvhpJtP0o7h07ugwJ5dKeIzg9hj7OSJErvJd\\u002f7NxyB2PXK51ViXAIgDj5cAPRKlPjXZ9J2adDqxo+bgAH44jEZaI9IP4vYi6ZiTP40Qil8u1a135iCbOADi95gEFD4ioH+ed\\u002fG\\u002fG8kQ4jnNowMpC8M2ENKM9oxUl8jnX9ety7cwsmO9EBZ8Q4GMk46qoOCCC60H1Y9d1745qxDcmEVea1WntgEHsh4rehyL7CrgHIa0gDBlOM0pguYi8KNAv0lDP5638fVFcTZZjnUGtw\\u002f2YRW7wXf\\u002fU6j7NyGxIjF\\u002fLl18LbW1tuwwODs6h8BAB9iT5Voyb+UlWCPA0lNwllFtc110Shy71+C6mTJnSvHL1ysOh9btBTAPkHWEm16HgFj4NymKljIXHHXfcgwsWLKjbGalt2\\u002ftSeDKpTxpehIVJs1uB4GFA7jDEuGPatGmLqynGkRIvU6dObXrllVcOAvSRBGcD8rYwk7oIigT+IsQ9yKg\\u002fdbZ1\\u002fjlKrMZEwbbtfQB9BMkDITiQxB4hur0sgocEeAgw7nBdN1KVs4nKtGnTss8\\u002f\\u002f\\u002fysgMFRAh45PB+FyuwokNchfFYg9wLqno6Ojgfjeh622rMx0za\\u002fB\\u002fIzYdoKcKHnlUJX2doa6e7uVpdffvku5XJ5D6VokRxaOFH1IIu1hjZe7e\\u002fvr9dZfF1oa2vLk2wro1yQirSJBAWtVQsyWEvhainLijq6pcdleBLYDQj20pq7Q6kWDP0GRaiLWsmLBo2Xdtlll5c3OU9MmbA4jtMhUplSgbQprRwKTaGUtNKuQaNXt+gXt9Xc+m1tbflKpbIDgO2AYDutJacUi4DRQ3KdiLw+HLH+T4Ft29uLyJ5kZXsqZYumCUBI6aPBvgy42jBaliZ5vXTrNeiWuRjgjDBtDSWnFIv+jUnrlJKSkpKS0ii2yjy+uVzrzLDGHABIVdeI1ZSUlJSUlHqzVRr0IIiQrlDwUj2So6SkpKSkpDSSrc6gO47zLoLHhu8hdySnTUpKSkpKysQgTMTtm+y8886tfX1979S6MhOQ\\u002fWHIr7x+77aklNucyZMnm319vVdE6SOUK5PSJyUlJSUlZaIwalDcnDlzjIULF+5LxZkgZgoxg+DbsekiYL1Anex5XuK74NmzZ2cWP7r4NyDfF7ZPNffPU1JSUlJStka2MOi2bf4nwdkkpgFvXuofC0+J8Z5RMozFQkdHh1Mq+QuiudoBJfiA65Z+n5ReKSkpKSkpE4UtztAJHk7iMIQz5gBgaQZ3WE7rJV1dXeNld4qMlbOO9Uve01GNuQj+dvzxJ10ftz4pKSkpKSkTkRF26PY+msGTCJknfTNeFuCKbLb56t7e3t5aFLMs6yiA8wi+u5r+AnWM53l31qJDSkpKSkrK1sKIZ+i2bXZr8us1jOsBcrco+bMh+j4y87fxMgYVCoVCEAweHhAngDgB4M7VChfITz3P\\u002f7dq+6ekpKSkpGxtjGjQp06d2vTyKy\\u002ffA\\u002fLA2AQJioC8DHAdIGUQgwAUBDsD2CVsHtxx5UCeamtrP2j58uWlOMZLSUlJSUnZGhg1yt2yrEmEXgxglzrqUyuvNmWbD0+qilZKSkpKSspEZdTEMp7nrRKok0Wkp54KVY3gpaZs82GpMU9JSUlJ+WdkzExxnuc9LVCHAHitTvpUhQj+1tKEw3t7e19ptC4pKSkpKSmNYNzUr67rPtvagoME8mQd9ImMCO5lixy+bl1peaN1SUlJSUlJaRShcrmvXVv6e1fXbrOUyDcAlBPWKSwDAnXe3PO\\u002fNNtf469stDIpKSkpKSmNJHI9dKtgvQMVfTmJ2QnoExJ52FDGGcVi8bnG6ZCSkpKSkjJxiGzQN2Db9mFE8HUSR8ap0FiIyB1Qcmk9C8KkpKSkpKRsDVRt0Ddg2\\u002fa+ZPAJiJxOclIcSm2MiLwB4iZAvut53tNxj5+SkpKSkrItULNB38CcOXOMW2+9dRYZvFuDR4M4AEBrZIVE1oF4FErugIE73B73aRFhXHqmpKSkpKRsi8Rm0Denu7tbXXbZZbuTlbeR2EkDHRj6pwkAAWgh+wG1GgbeEC2vAHjOdd03ktIpJSUlJSVlW+X\\u002fAzS1HQZWLaOBAAAAAElFTkSuQmCC\",\"x\":0.5,\"xanchor\":\"center\",\"xref\":\"paper\",\"y\":0.5,\"yanchor\":\"middle\",\"yref\":\"paper\"}],\"annotations\":[{\"font\":{\"color\":\"#7f7f7f\",\"size\":15},\"opacity\":0.5,\"showarrow\":false,\"text\":\"\\u00a9 2024 Glassnode. All Rights Reserved\",\"x\":1,\"xref\":\"paper\",\"y\":-0.125,\"yref\":\"paper\"}],\"plot_bgcolor\":\"white\",\"paper_bgcolor\":\"white\",\"autosize\":true},                        {\"responsive\": true}                    ).then(function(){\n",
       "                            \n",
       "var gd = document.getElementById('a3ac14ff-47a6-4d83-844d-473cc1411d2d');\n",
       "var x = new MutationObserver(function (mutations, observer) {{\n",
       "        var display = window.getComputedStyle(gd).display;\n",
       "        if (!display || display === 'none') {{\n",
       "            console.log([gd, 'removed!']);\n",
       "            Plotly.purge(gd);\n",
       "            observer.disconnect();\n",
       "        }}\n",
       "}});\n",
       "\n",
       "// Listen for the removal of the full notebook cells\n",
       "var notebookContainer = gd.closest('#notebook-container');\n",
       "if (notebookContainer) {{\n",
       "    x.observe(notebookContainer, {childList: true});\n",
       "}}\n",
       "\n",
       "// Listen for the clearing of the current output cell\n",
       "var outputEl = gd.closest('.output');\n",
       "if (outputEl) {{\n",
       "    x.observe(outputEl, {childList: true});\n",
       "}}\n",
       "\n",
       "                        })                };                });            </script>        </div>"
      ]
     },
     "metadata": {},
     "output_type": "display_data"
    }
   ],
   "execution_count": 6
  }
 ],
 "metadata": {
  "kernelspec": {
   "display_name": "Python 3 (ipykernel)",
   "language": "python",
   "name": "python3"
  },
  "language_info": {
   "codemirror_mode": {
    "name": "ipython",
    "version": 3
   },
   "file_extension": ".py",
   "mimetype": "text/x-python",
   "name": "python",
   "nbconvert_exporter": "python",
   "pygments_lexer": "ipython3",
   "version": "3.9.9"
  }
 },
 "nbformat": 4,
 "nbformat_minor": 5
}
