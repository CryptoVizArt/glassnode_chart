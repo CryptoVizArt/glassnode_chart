{
 "cells": [
  {
   "cell_type": "code",
   "execution_count": 3,
   "id": "ded8f83b",
   "metadata": {},
   "outputs": [],
   "source": [
    "def add_watermarks(fig):\n",
    "    from PIL import Image\n",
    "    from datetime import datetime\n",
    "\n",
    "    # Open the watermark image\n",
    "    watermark = Image.open(\"glassnode_large.png\")\n",
    "    \n",
    "    # Add the watermark image to the plot\n",
    "    fig.add_layout_image(\n",
    "        dict(\n",
    "            source=watermark,       # Set the image source\n",
    "            sizex=0.6,              # Set the image width relative to the plot\n",
    "            sizey=0.6,              # Set the image height relative to the plot\n",
    "            xanchor=\"center\",       # Set the x anchor point to the center\n",
    "            yanchor=\"middle\",       # Set the y anchor point to the middle\n",
    "            xref=\"paper\",           # Set the x reference to the plot\n",
    "            yref=\"paper\",           # Set the y reference to the plot\n",
    "            x=0.5,                  # Set the x position of the image\n",
    "            y=0.5,                  # Set the y position of the image\n",
    "            opacity=0.15,           # Set the opacity of the image\n",
    "            layer=\"above\"           # Set the layer of the image to be above the plot\n",
    "        )\n",
    "    )\n",
    "\n",
    "    # Add annotation for copyright text\n",
    "    fig.add_annotation(\n",
    "        showarrow=False,\n",
    "        text=f\"© {str(datetime.today().year)} Glassnode. All Rights Reserved\",\n",
    "        font=dict(size=15),\n",
    "        xref='paper',\n",
    "        yref='paper',\n",
    "        x=1,\n",
    "        y=-0.125,\n",
    "        opacity=0.5\n",
    "    )\n",
    "    \n",
    "    # Update plot layout to have transparent background\n",
    "    fig.update_layout({\n",
    "        'plot_bgcolor': 'rgba(0,0,0,0)',\n",
    "        'xaxis': {\n",
    "            'linecolor': '#bdbdbd',  # change this to desired light color for x axis line\n",
    "            'linewidth': 1,\n",
    "            'mirror': True\n",
    "        },\n",
    "        'yaxis': {\n",
    "            'showgrid': True,  # this shows the grid lines\n",
    "            'gridcolor': '#bdbdbd',  # change this to desired light color for y gridlines\n",
    "            'linecolor': '#bdbdbd',  # change this to desired light color for y axis line\n",
    "            'linewidth': 1,\n",
    "            'mirror': True\n",
    "        },\n",
    "        'shapes': [\n",
    "            # Origin horizontal line\n",
    "            {\n",
    "                'xref': 'paper',\n",
    "                'yref': 'y',\n",
    "                'y0': 0,\n",
    "                'y1': 0,\n",
    "                'x0': 0,\n",
    "                'x1': 1,\n",
    "                'line': {\n",
    "                    'color': '#bdbdbd',\n",
    "                    'width': 1,\n",
    "                },\n",
    "                'fillcolor': 'rgba(0,0,0,0)'\n",
    "            }\n",
    "        ],\n",
    "        'autosize': True\n",
    "    })\n",
    "    \n",
    "    return(fig)\n"
   ]
  },
  {
   "cell_type": "markdown",
   "id": "fe39c5f0",
   "metadata": {},
   "source": [
    "## Sample plot"
   ]
  },
  {
   "cell_type": "code",
   "execution_count": 5,
   "id": "589a5570",
   "metadata": {},
   "outputs": [
    {
     "data": {
      "application/vnd.plotly.v1+json": {
       "config": {
        "plotlyServerURL": "https://plot.ly"
       },
       "data": [
        {
         "mode": "lines",
         "type": "scatter",
         "x": [
          "2023-01-01T00:00:00",
          "2023-01-02T00:00:00",
          "2023-01-03T00:00:00",
          "2023-01-04T00:00:00",
          "2023-01-05T00:00:00",
          "2023-01-06T00:00:00",
          "2023-01-07T00:00:00",
          "2023-01-08T00:00:00",
          "2023-01-09T00:00:00",
          "2023-01-10T00:00:00",
          "2023-01-11T00:00:00",
          "2023-01-12T00:00:00",
          "2023-01-13T00:00:00",
          "2023-01-14T00:00:00",
          "2023-01-15T00:00:00",
          "2023-01-16T00:00:00",
          "2023-01-17T00:00:00",
          "2023-01-18T00:00:00",
          "2023-01-19T00:00:00",
          "2023-01-20T00:00:00"
         ],
         "y": [
          3,
          1,
          5,
          5,
          4,
          1,
          0,
          5,
          6,
          5,
          6,
          5,
          1,
          -4,
          -2,
          -7,
          -3,
          -5,
          -8,
          -13
         ]
        }
       ],
       "layout": {
        "annotations": [
         {
          "font": {
           "size": 15
          },
          "opacity": 0.5,
          "showarrow": false,
          "text": "© 2023 Glassnode. All Rights Reserved",
          "x": 1,
          "xref": "paper",
          "y": -0.125,
          "yref": "paper"
         }
        ],
        "autosize": true,
        "height": 500,
        "images": [
         {
          "layer": "above",
          "opacity": 0.15,
          "sizex": 0.6,
          "sizey": 0.6,
          "source": "data:image/png;base64,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",
          "x": 0.5,
          "xanchor": "center",
          "xref": "paper",
          "y": 0.5,
          "yanchor": "middle",
          "yref": "paper"
         }
        ],
        "plot_bgcolor": "rgba(0,0,0,0)",
        "shapes": [
         {
          "fillcolor": "rgba(0,0,0,0)",
          "line": {
           "color": "#bdbdbd",
           "width": 1
          },
          "x0": 0,
          "x1": 1,
          "xref": "paper",
          "y0": 0,
          "y1": 0,
          "yref": "y"
         }
        ],
        "template": {
         "data": {
          "bar": [
           {
            "error_x": {
             "color": "#2a3f5f"
            },
            "error_y": {
             "color": "#2a3f5f"
            },
            "marker": {
             "line": {
              "color": "#E5ECF6",
              "width": 0.5
             },
             "pattern": {
              "fillmode": "overlay",
              "size": 10,
              "solidity": 0.2
             }
            },
            "type": "bar"
           }
          ],
          "barpolar": [
           {
            "marker": {
             "line": {
              "color": "#E5ECF6",
              "width": 0.5
             },
             "pattern": {
              "fillmode": "overlay",
              "size": 10,
              "solidity": 0.2
             }
            },
            "type": "barpolar"
           }
          ],
          "carpet": [
           {
            "aaxis": {
             "endlinecolor": "#2a3f5f",
             "gridcolor": "white",
             "linecolor": "white",
             "minorgridcolor": "white",
             "startlinecolor": "#2a3f5f"
            },
            "baxis": {
             "endlinecolor": "#2a3f5f",
             "gridcolor": "white",
             "linecolor": "white",
             "minorgridcolor": "white",
             "startlinecolor": "#2a3f5f"
            },
            "type": "carpet"
           }
          ],
          "choropleth": [
           {
            "colorbar": {
             "outlinewidth": 0,
             "ticks": ""
            },
            "type": "choropleth"
           }
          ],
          "contour": [
           {
            "colorbar": {
             "outlinewidth": 0,
             "ticks": ""
            },
            "colorscale": [
             [
              0,
              "#0d0887"
             ],
             [
              0.1111111111111111,
              "#46039f"
             ],
             [
              0.2222222222222222,
              "#7201a8"
             ],
             [
              0.3333333333333333,
              "#9c179e"
             ],
             [
              0.4444444444444444,
              "#bd3786"
             ],
             [
              0.5555555555555556,
              "#d8576b"
             ],
             [
              0.6666666666666666,
              "#ed7953"
             ],
             [
              0.7777777777777778,
              "#fb9f3a"
             ],
             [
              0.8888888888888888,
              "#fdca26"
             ],
             [
              1,
              "#f0f921"
             ]
            ],
            "type": "contour"
           }
          ],
          "contourcarpet": [
           {
            "colorbar": {
             "outlinewidth": 0,
             "ticks": ""
            },
            "type": "contourcarpet"
           }
          ],
          "heatmap": [
           {
            "colorbar": {
             "outlinewidth": 0,
             "ticks": ""
            },
            "colorscale": [
             [
              0,
              "#0d0887"
             ],
             [
              0.1111111111111111,
              "#46039f"
             ],
             [
              0.2222222222222222,
              "#7201a8"
             ],
             [
              0.3333333333333333,
              "#9c179e"
             ],
             [
              0.4444444444444444,
              "#bd3786"
             ],
             [
              0.5555555555555556,
              "#d8576b"
             ],
             [
              0.6666666666666666,
              "#ed7953"
             ],
             [
              0.7777777777777778,
              "#fb9f3a"
             ],
             [
              0.8888888888888888,
              "#fdca26"
             ],
             [
              1,
              "#f0f921"
             ]
            ],
            "type": "heatmap"
           }
          ],
          "heatmapgl": [
           {
            "colorbar": {
             "outlinewidth": 0,
             "ticks": ""
            },
            "colorscale": [
             [
              0,
              "#0d0887"
             ],
             [
              0.1111111111111111,
              "#46039f"
             ],
             [
              0.2222222222222222,
              "#7201a8"
             ],
             [
              0.3333333333333333,
              "#9c179e"
             ],
             [
              0.4444444444444444,
              "#bd3786"
             ],
             [
              0.5555555555555556,
              "#d8576b"
             ],
             [
              0.6666666666666666,
              "#ed7953"
             ],
             [
              0.7777777777777778,
              "#fb9f3a"
             ],
             [
              0.8888888888888888,
              "#fdca26"
             ],
             [
              1,
              "#f0f921"
             ]
            ],
            "type": "heatmapgl"
           }
          ],
          "histogram": [
           {
            "marker": {
             "pattern": {
              "fillmode": "overlay",
              "size": 10,
              "solidity": 0.2
             }
            },
            "type": "histogram"
           }
          ],
          "histogram2d": [
           {
            "colorbar": {
             "outlinewidth": 0,
             "ticks": ""
            },
            "colorscale": [
             [
              0,
              "#0d0887"
             ],
             [
              0.1111111111111111,
              "#46039f"
             ],
             [
              0.2222222222222222,
              "#7201a8"
             ],
             [
              0.3333333333333333,
              "#9c179e"
             ],
             [
              0.4444444444444444,
              "#bd3786"
             ],
             [
              0.5555555555555556,
              "#d8576b"
             ],
             [
              0.6666666666666666,
              "#ed7953"
             ],
             [
              0.7777777777777778,
              "#fb9f3a"
             ],
             [
              0.8888888888888888,
              "#fdca26"
             ],
             [
              1,
              "#f0f921"
             ]
            ],
            "type": "histogram2d"
           }
          ],
          "histogram2dcontour": [
           {
            "colorbar": {
             "outlinewidth": 0,
             "ticks": ""
            },
            "colorscale": [
             [
              0,
              "#0d0887"
             ],
             [
              0.1111111111111111,
              "#46039f"
             ],
             [
              0.2222222222222222,
              "#7201a8"
             ],
             [
              0.3333333333333333,
              "#9c179e"
             ],
             [
              0.4444444444444444,
              "#bd3786"
             ],
             [
              0.5555555555555556,
              "#d8576b"
             ],
             [
              0.6666666666666666,
              "#ed7953"
             ],
             [
              0.7777777777777778,
              "#fb9f3a"
             ],
             [
              0.8888888888888888,
              "#fdca26"
             ],
             [
              1,
              "#f0f921"
             ]
            ],
            "type": "histogram2dcontour"
           }
          ],
          "mesh3d": [
           {
            "colorbar": {
             "outlinewidth": 0,
             "ticks": ""
            },
            "type": "mesh3d"
           }
          ],
          "parcoords": [
           {
            "line": {
             "colorbar": {
              "outlinewidth": 0,
              "ticks": ""
             }
            },
            "type": "parcoords"
           }
          ],
          "pie": [
           {
            "automargin": true,
            "type": "pie"
           }
          ],
          "scatter": [
           {
            "marker": {
             "colorbar": {
              "outlinewidth": 0,
              "ticks": ""
             }
            },
            "type": "scatter"
           }
          ],
          "scatter3d": [
           {
            "line": {
             "colorbar": {
              "outlinewidth": 0,
              "ticks": ""
             }
            },
            "marker": {
             "colorbar": {
              "outlinewidth": 0,
              "ticks": ""
             }
            },
            "type": "scatter3d"
           }
          ],
          "scattercarpet": [
           {
            "marker": {
             "colorbar": {
              "outlinewidth": 0,
              "ticks": ""
             }
            },
            "type": "scattercarpet"
           }
          ],
          "scattergeo": [
           {
            "marker": {
             "colorbar": {
              "outlinewidth": 0,
              "ticks": ""
             }
            },
            "type": "scattergeo"
           }
          ],
          "scattergl": [
           {
            "marker": {
             "colorbar": {
              "outlinewidth": 0,
              "ticks": ""
             }
            },
            "type": "scattergl"
           }
          ],
          "scattermapbox": [
           {
            "marker": {
             "colorbar": {
              "outlinewidth": 0,
              "ticks": ""
             }
            },
            "type": "scattermapbox"
           }
          ],
          "scatterpolar": [
           {
            "marker": {
             "colorbar": {
              "outlinewidth": 0,
              "ticks": ""
             }
            },
            "type": "scatterpolar"
           }
          ],
          "scatterpolargl": [
           {
            "marker": {
             "colorbar": {
              "outlinewidth": 0,
              "ticks": ""
             }
            },
            "type": "scatterpolargl"
           }
          ],
          "scatterternary": [
           {
            "marker": {
             "colorbar": {
              "outlinewidth": 0,
              "ticks": ""
             }
            },
            "type": "scatterternary"
           }
          ],
          "surface": [
           {
            "colorbar": {
             "outlinewidth": 0,
             "ticks": ""
            },
            "colorscale": [
             [
              0,
              "#0d0887"
             ],
             [
              0.1111111111111111,
              "#46039f"
             ],
             [
              0.2222222222222222,
              "#7201a8"
             ],
             [
              0.3333333333333333,
              "#9c179e"
             ],
             [
              0.4444444444444444,
              "#bd3786"
             ],
             [
              0.5555555555555556,
              "#d8576b"
             ],
             [
              0.6666666666666666,
              "#ed7953"
             ],
             [
              0.7777777777777778,
              "#fb9f3a"
             ],
             [
              0.8888888888888888,
              "#fdca26"
             ],
             [
              1,
              "#f0f921"
             ]
            ],
            "type": "surface"
           }
          ],
          "table": [
           {
            "cells": {
             "fill": {
              "color": "#EBF0F8"
             },
             "line": {
              "color": "white"
             }
            },
            "header": {
             "fill": {
              "color": "#C8D4E3"
             },
             "line": {
              "color": "white"
             }
            },
            "type": "table"
           }
          ]
         },
         "layout": {
          "annotationdefaults": {
           "arrowcolor": "#2a3f5f",
           "arrowhead": 0,
           "arrowwidth": 1
          },
          "autotypenumbers": "strict",
          "coloraxis": {
           "colorbar": {
            "outlinewidth": 0,
            "ticks": ""
           }
          },
          "colorscale": {
           "diverging": [
            [
             0,
             "#8e0152"
            ],
            [
             0.1,
             "#c51b7d"
            ],
            [
             0.2,
             "#de77ae"
            ],
            [
             0.3,
             "#f1b6da"
            ],
            [
             0.4,
             "#fde0ef"
            ],
            [
             0.5,
             "#f7f7f7"
            ],
            [
             0.6,
             "#e6f5d0"
            ],
            [
             0.7,
             "#b8e186"
            ],
            [
             0.8,
             "#7fbc41"
            ],
            [
             0.9,
             "#4d9221"
            ],
            [
             1,
             "#276419"
            ]
           ],
           "sequential": [
            [
             0,
             "#0d0887"
            ],
            [
             0.1111111111111111,
             "#46039f"
            ],
            [
             0.2222222222222222,
             "#7201a8"
            ],
            [
             0.3333333333333333,
             "#9c179e"
            ],
            [
             0.4444444444444444,
             "#bd3786"
            ],
            [
             0.5555555555555556,
             "#d8576b"
            ],
            [
             0.6666666666666666,
             "#ed7953"
            ],
            [
             0.7777777777777778,
             "#fb9f3a"
            ],
            [
             0.8888888888888888,
             "#fdca26"
            ],
            [
             1,
             "#f0f921"
            ]
           ],
           "sequentialminus": [
            [
             0,
             "#0d0887"
            ],
            [
             0.1111111111111111,
             "#46039f"
            ],
            [
             0.2222222222222222,
             "#7201a8"
            ],
            [
             0.3333333333333333,
             "#9c179e"
            ],
            [
             0.4444444444444444,
             "#bd3786"
            ],
            [
             0.5555555555555556,
             "#d8576b"
            ],
            [
             0.6666666666666666,
             "#ed7953"
            ],
            [
             0.7777777777777778,
             "#fb9f3a"
            ],
            [
             0.8888888888888888,
             "#fdca26"
            ],
            [
             1,
             "#f0f921"
            ]
           ]
          },
          "colorway": [
           "#636efa",
           "#EF553B",
           "#00cc96",
           "#ab63fa",
           "#FFA15A",
           "#19d3f3",
           "#FF6692",
           "#B6E880",
           "#FF97FF",
           "#FECB52"
          ],
          "font": {
           "color": "#2a3f5f"
          },
          "geo": {
           "bgcolor": "white",
           "lakecolor": "white",
           "landcolor": "#E5ECF6",
           "showlakes": true,
           "showland": true,
           "subunitcolor": "white"
          },
          "hoverlabel": {
           "align": "left"
          },
          "hovermode": "closest",
          "mapbox": {
           "style": "light"
          },
          "paper_bgcolor": "white",
          "plot_bgcolor": "#E5ECF6",
          "polar": {
           "angularaxis": {
            "gridcolor": "white",
            "linecolor": "white",
            "ticks": ""
           },
           "bgcolor": "#E5ECF6",
           "radialaxis": {
            "gridcolor": "white",
            "linecolor": "white",
            "ticks": ""
           }
          },
          "scene": {
           "xaxis": {
            "backgroundcolor": "#E5ECF6",
            "gridcolor": "white",
            "gridwidth": 2,
            "linecolor": "white",
            "showbackground": true,
            "ticks": "",
            "zerolinecolor": "white"
           },
           "yaxis": {
            "backgroundcolor": "#E5ECF6",
            "gridcolor": "white",
            "gridwidth": 2,
            "linecolor": "white",
            "showbackground": true,
            "ticks": "",
            "zerolinecolor": "white"
           },
           "zaxis": {
            "backgroundcolor": "#E5ECF6",
            "gridcolor": "white",
            "gridwidth": 2,
            "linecolor": "white",
            "showbackground": true,
            "ticks": "",
            "zerolinecolor": "white"
           }
          },
          "shapedefaults": {
           "line": {
            "color": "#2a3f5f"
           }
          },
          "ternary": {
           "aaxis": {
            "gridcolor": "white",
            "linecolor": "white",
            "ticks": ""
           },
           "baxis": {
            "gridcolor": "white",
            "linecolor": "white",
            "ticks": ""
           },
           "bgcolor": "#E5ECF6",
           "caxis": {
            "gridcolor": "white",
            "linecolor": "white",
            "ticks": ""
           }
          },
          "title": {
           "x": 0.05
          },
          "xaxis": {
           "automargin": true,
           "gridcolor": "white",
           "linecolor": "white",
           "ticks": "",
           "title": {
            "standoff": 15
           },
           "zerolinecolor": "white",
           "zerolinewidth": 2
          },
          "yaxis": {
           "automargin": true,
           "gridcolor": "white",
           "linecolor": "white",
           "ticks": "",
           "title": {
            "standoff": 15
           },
           "zerolinecolor": "white",
           "zerolinewidth": 2
          }
         }
        },
        "title": {
         "text": "Line Plot"
        },
        "width": 800,
        "xaxis": {
         "linecolor": "#bdbdbd",
         "linewidth": 1,
         "mirror": true,
         "title": {
          "text": "X-axis"
         }
        },
        "yaxis": {
         "gridcolor": "#bdbdbd",
         "linecolor": "#bdbdbd",
         "linewidth": 1,
         "mirror": true,
         "showgrid": true,
         "title": {
          "text": "Y-axis"
         }
        }
       }
      },
      "text/html": [
       "<div>                            <div id=\"e27b2a34-5592-4058-9093-998363fd45c3\" class=\"plotly-graph-div\" style=\"height:500px; width:800px;\"></div>            <script type=\"text/javascript\">                require([\"plotly\"], function(Plotly) {                    window.PLOTLYENV=window.PLOTLYENV || {};                                    if (document.getElementById(\"e27b2a34-5592-4058-9093-998363fd45c3\")) {                    Plotly.newPlot(                        \"e27b2a34-5592-4058-9093-998363fd45c3\",                        [{\"mode\":\"lines\",\"x\":[\"2023-01-01T00:00:00\",\"2023-01-02T00:00:00\",\"2023-01-03T00:00:00\",\"2023-01-04T00:00:00\",\"2023-01-05T00:00:00\",\"2023-01-06T00:00:00\",\"2023-01-07T00:00:00\",\"2023-01-08T00:00:00\",\"2023-01-09T00:00:00\",\"2023-01-10T00:00:00\",\"2023-01-11T00:00:00\",\"2023-01-12T00:00:00\",\"2023-01-13T00:00:00\",\"2023-01-14T00:00:00\",\"2023-01-15T00:00:00\",\"2023-01-16T00:00:00\",\"2023-01-17T00:00:00\",\"2023-01-18T00:00:00\",\"2023-01-19T00:00:00\",\"2023-01-20T00:00:00\"],\"y\":[3,1,5,5,4,1,0,5,6,5,6,5,1,-4,-2,-7,-3,-5,-8,-13],\"type\":\"scatter\"}],                        {\"template\":{\"data\":{\"bar\":[{\"error_x\":{\"color\":\"#2a3f5f\"},\"error_y\":{\"color\":\"#2a3f5f\"},\"marker\":{\"line\":{\"color\":\"#E5ECF6\",\"width\":0.5},\"pattern\":{\"fillmode\":\"overlay\",\"size\":10,\"solidity\":0.2}},\"type\":\"bar\"}],\"barpolar\":[{\"marker\":{\"line\":{\"color\":\"#E5ECF6\",\"width\":0.5},\"pattern\":{\"fillmode\":\"overlay\",\"size\":10,\"solidity\":0.2}},\"type\":\"barpolar\"}],\"carpet\":[{\"aaxis\":{\"endlinecolor\":\"#2a3f5f\",\"gridcolor\":\"white\",\"linecolor\":\"white\",\"minorgridcolor\":\"white\",\"startlinecolor\":\"#2a3f5f\"},\"baxis\":{\"endlinecolor\":\"#2a3f5f\",\"gridcolor\":\"white\",\"linecolor\":\"white\",\"minorgridcolor\":\"white\",\"startlinecolor\":\"#2a3f5f\"},\"type\":\"carpet\"}],\"choropleth\":[{\"colorbar\":{\"outlinewidth\":0,\"ticks\":\"\"},\"type\":\"choropleth\"}],\"contour\":[{\"colorbar\":{\"outlinewidth\":0,\"ticks\":\"\"},\"colorscale\":[[0.0,\"#0d0887\"],[0.1111111111111111,\"#46039f\"],[0.2222222222222222,\"#7201a8\"],[0.3333333333333333,\"#9c179e\"],[0.4444444444444444,\"#bd3786\"],[0.5555555555555556,\"#d8576b\"],[0.6666666666666666,\"#ed7953\"],[0.7777777777777778,\"#fb9f3a\"],[0.8888888888888888,\"#fdca26\"],[1.0,\"#f0f921\"]],\"type\":\"contour\"}],\"contourcarpet\":[{\"colorbar\":{\"outlinewidth\":0,\"ticks\":\"\"},\"type\":\"contourcarpet\"}],\"heatmap\":[{\"colorbar\":{\"outlinewidth\":0,\"ticks\":\"\"},\"colorscale\":[[0.0,\"#0d0887\"],[0.1111111111111111,\"#46039f\"],[0.2222222222222222,\"#7201a8\"],[0.3333333333333333,\"#9c179e\"],[0.4444444444444444,\"#bd3786\"],[0.5555555555555556,\"#d8576b\"],[0.6666666666666666,\"#ed7953\"],[0.7777777777777778,\"#fb9f3a\"],[0.8888888888888888,\"#fdca26\"],[1.0,\"#f0f921\"]],\"type\":\"heatmap\"}],\"heatmapgl\":[{\"colorbar\":{\"outlinewidth\":0,\"ticks\":\"\"},\"colorscale\":[[0.0,\"#0d0887\"],[0.1111111111111111,\"#46039f\"],[0.2222222222222222,\"#7201a8\"],[0.3333333333333333,\"#9c179e\"],[0.4444444444444444,\"#bd3786\"],[0.5555555555555556,\"#d8576b\"],[0.6666666666666666,\"#ed7953\"],[0.7777777777777778,\"#fb9f3a\"],[0.8888888888888888,\"#fdca26\"],[1.0,\"#f0f921\"]],\"type\":\"heatmapgl\"}],\"histogram\":[{\"marker\":{\"pattern\":{\"fillmode\":\"overlay\",\"size\":10,\"solidity\":0.2}},\"type\":\"histogram\"}],\"histogram2d\":[{\"colorbar\":{\"outlinewidth\":0,\"ticks\":\"\"},\"colorscale\":[[0.0,\"#0d0887\"],[0.1111111111111111,\"#46039f\"],[0.2222222222222222,\"#7201a8\"],[0.3333333333333333,\"#9c179e\"],[0.4444444444444444,\"#bd3786\"],[0.5555555555555556,\"#d8576b\"],[0.6666666666666666,\"#ed7953\"],[0.7777777777777778,\"#fb9f3a\"],[0.8888888888888888,\"#fdca26\"],[1.0,\"#f0f921\"]],\"type\":\"histogram2d\"}],\"histogram2dcontour\":[{\"colorbar\":{\"outlinewidth\":0,\"ticks\":\"\"},\"colorscale\":[[0.0,\"#0d0887\"],[0.1111111111111111,\"#46039f\"],[0.2222222222222222,\"#7201a8\"],[0.3333333333333333,\"#9c179e\"],[0.4444444444444444,\"#bd3786\"],[0.5555555555555556,\"#d8576b\"],[0.6666666666666666,\"#ed7953\"],[0.7777777777777778,\"#fb9f3a\"],[0.8888888888888888,\"#fdca26\"],[1.0,\"#f0f921\"]],\"type\":\"histogram2dcontour\"}],\"mesh3d\":[{\"colorbar\":{\"outlinewidth\":0,\"ticks\":\"\"},\"type\":\"mesh3d\"}],\"parcoords\":[{\"line\":{\"colorbar\":{\"outlinewidth\":0,\"ticks\":\"\"}},\"type\":\"parcoords\"}],\"pie\":[{\"automargin\":true,\"type\":\"pie\"}],\"scatter\":[{\"marker\":{\"colorbar\":{\"outlinewidth\":0,\"ticks\":\"\"}},\"type\":\"scatter\"}],\"scatter3d\":[{\"line\":{\"colorbar\":{\"outlinewidth\":0,\"ticks\":\"\"}},\"marker\":{\"colorbar\":{\"outlinewidth\":0,\"ticks\":\"\"}},\"type\":\"scatter3d\"}],\"scattercarpet\":[{\"marker\":{\"colorbar\":{\"outlinewidth\":0,\"ticks\":\"\"}},\"type\":\"scattercarpet\"}],\"scattergeo\":[{\"marker\":{\"colorbar\":{\"outlinewidth\":0,\"ticks\":\"\"}},\"type\":\"scattergeo\"}],\"scattergl\":[{\"marker\":{\"colorbar\":{\"outlinewidth\":0,\"ticks\":\"\"}},\"type\":\"scattergl\"}],\"scattermapbox\":[{\"marker\":{\"colorbar\":{\"outlinewidth\":0,\"ticks\":\"\"}},\"type\":\"scattermapbox\"}],\"scatterpolar\":[{\"marker\":{\"colorbar\":{\"outlinewidth\":0,\"ticks\":\"\"}},\"type\":\"scatterpolar\"}],\"scatterpolargl\":[{\"marker\":{\"colorbar\":{\"outlinewidth\":0,\"ticks\":\"\"}},\"type\":\"scatterpolargl\"}],\"scatterternary\":[{\"marker\":{\"colorbar\":{\"outlinewidth\":0,\"ticks\":\"\"}},\"type\":\"scatterternary\"}],\"surface\":[{\"colorbar\":{\"outlinewidth\":0,\"ticks\":\"\"},\"colorscale\":[[0.0,\"#0d0887\"],[0.1111111111111111,\"#46039f\"],[0.2222222222222222,\"#7201a8\"],[0.3333333333333333,\"#9c179e\"],[0.4444444444444444,\"#bd3786\"],[0.5555555555555556,\"#d8576b\"],[0.6666666666666666,\"#ed7953\"],[0.7777777777777778,\"#fb9f3a\"],[0.8888888888888888,\"#fdca26\"],[1.0,\"#f0f921\"]],\"type\":\"surface\"}],\"table\":[{\"cells\":{\"fill\":{\"color\":\"#EBF0F8\"},\"line\":{\"color\":\"white\"}},\"header\":{\"fill\":{\"color\":\"#C8D4E3\"},\"line\":{\"color\":\"white\"}},\"type\":\"table\"}]},\"layout\":{\"annotationdefaults\":{\"arrowcolor\":\"#2a3f5f\",\"arrowhead\":0,\"arrowwidth\":1},\"autotypenumbers\":\"strict\",\"coloraxis\":{\"colorbar\":{\"outlinewidth\":0,\"ticks\":\"\"}},\"colorscale\":{\"diverging\":[[0,\"#8e0152\"],[0.1,\"#c51b7d\"],[0.2,\"#de77ae\"],[0.3,\"#f1b6da\"],[0.4,\"#fde0ef\"],[0.5,\"#f7f7f7\"],[0.6,\"#e6f5d0\"],[0.7,\"#b8e186\"],[0.8,\"#7fbc41\"],[0.9,\"#4d9221\"],[1,\"#276419\"]],\"sequential\":[[0.0,\"#0d0887\"],[0.1111111111111111,\"#46039f\"],[0.2222222222222222,\"#7201a8\"],[0.3333333333333333,\"#9c179e\"],[0.4444444444444444,\"#bd3786\"],[0.5555555555555556,\"#d8576b\"],[0.6666666666666666,\"#ed7953\"],[0.7777777777777778,\"#fb9f3a\"],[0.8888888888888888,\"#fdca26\"],[1.0,\"#f0f921\"]],\"sequentialminus\":[[0.0,\"#0d0887\"],[0.1111111111111111,\"#46039f\"],[0.2222222222222222,\"#7201a8\"],[0.3333333333333333,\"#9c179e\"],[0.4444444444444444,\"#bd3786\"],[0.5555555555555556,\"#d8576b\"],[0.6666666666666666,\"#ed7953\"],[0.7777777777777778,\"#fb9f3a\"],[0.8888888888888888,\"#fdca26\"],[1.0,\"#f0f921\"]]},\"colorway\":[\"#636efa\",\"#EF553B\",\"#00cc96\",\"#ab63fa\",\"#FFA15A\",\"#19d3f3\",\"#FF6692\",\"#B6E880\",\"#FF97FF\",\"#FECB52\"],\"font\":{\"color\":\"#2a3f5f\"},\"geo\":{\"bgcolor\":\"white\",\"lakecolor\":\"white\",\"landcolor\":\"#E5ECF6\",\"showlakes\":true,\"showland\":true,\"subunitcolor\":\"white\"},\"hoverlabel\":{\"align\":\"left\"},\"hovermode\":\"closest\",\"mapbox\":{\"style\":\"light\"},\"paper_bgcolor\":\"white\",\"plot_bgcolor\":\"#E5ECF6\",\"polar\":{\"angularaxis\":{\"gridcolor\":\"white\",\"linecolor\":\"white\",\"ticks\":\"\"},\"bgcolor\":\"#E5ECF6\",\"radialaxis\":{\"gridcolor\":\"white\",\"linecolor\":\"white\",\"ticks\":\"\"}},\"scene\":{\"xaxis\":{\"backgroundcolor\":\"#E5ECF6\",\"gridcolor\":\"white\",\"gridwidth\":2,\"linecolor\":\"white\",\"showbackground\":true,\"ticks\":\"\",\"zerolinecolor\":\"white\"},\"yaxis\":{\"backgroundcolor\":\"#E5ECF6\",\"gridcolor\":\"white\",\"gridwidth\":2,\"linecolor\":\"white\",\"showbackground\":true,\"ticks\":\"\",\"zerolinecolor\":\"white\"},\"zaxis\":{\"backgroundcolor\":\"#E5ECF6\",\"gridcolor\":\"white\",\"gridwidth\":2,\"linecolor\":\"white\",\"showbackground\":true,\"ticks\":\"\",\"zerolinecolor\":\"white\"}},\"shapedefaults\":{\"line\":{\"color\":\"#2a3f5f\"}},\"ternary\":{\"aaxis\":{\"gridcolor\":\"white\",\"linecolor\":\"white\",\"ticks\":\"\"},\"baxis\":{\"gridcolor\":\"white\",\"linecolor\":\"white\",\"ticks\":\"\"},\"bgcolor\":\"#E5ECF6\",\"caxis\":{\"gridcolor\":\"white\",\"linecolor\":\"white\",\"ticks\":\"\"}},\"title\":{\"x\":0.05},\"xaxis\":{\"automargin\":true,\"gridcolor\":\"white\",\"linecolor\":\"white\",\"ticks\":\"\",\"title\":{\"standoff\":15},\"zerolinecolor\":\"white\",\"zerolinewidth\":2},\"yaxis\":{\"automargin\":true,\"gridcolor\":\"white\",\"linecolor\":\"white\",\"ticks\":\"\",\"title\":{\"standoff\":15},\"zerolinecolor\":\"white\",\"zerolinewidth\":2}}},\"title\":{\"text\":\"Line Plot\"},\"xaxis\":{\"title\":{\"text\":\"X-axis\"},\"linecolor\":\"#bdbdbd\",\"linewidth\":1,\"mirror\":true},\"yaxis\":{\"title\":{\"text\":\"Y-axis\"},\"showgrid\":true,\"gridcolor\":\"#bdbdbd\",\"linecolor\":\"#bdbdbd\",\"linewidth\":1,\"mirror\":true},\"width\":800,\"height\":500,\"images\":[{\"layer\":\"above\",\"opacity\":0.15,\"sizex\":0.6,\"sizey\":0.6,\"source\":\"data:image/png;base64,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\",\"x\":0.5,\"xanchor\":\"center\",\"xref\":\"paper\",\"y\":0.5,\"yanchor\":\"middle\",\"yref\":\"paper\"}],\"annotations\":[{\"font\":{\"size\":15},\"opacity\":0.5,\"showarrow\":false,\"text\":\"\\u00a9 2023 Glassnode. All Rights Reserved\",\"x\":1,\"xref\":\"paper\",\"y\":-0.125,\"yref\":\"paper\"}],\"plot_bgcolor\":\"rgba(0,0,0,0)\",\"shapes\":[{\"fillcolor\":\"rgba(0,0,0,0)\",\"line\":{\"color\":\"#bdbdbd\",\"width\":1},\"x0\":0,\"x1\":1,\"xref\":\"paper\",\"y0\":0,\"y1\":0,\"yref\":\"y\"}],\"autosize\":true},                        {\"responsive\": true}                    ).then(function(){\n",
       "                            \n",
       "var gd = document.getElementById('e27b2a34-5592-4058-9093-998363fd45c3');\n",
       "var x = new MutationObserver(function (mutations, observer) {{\n",
       "        var display = window.getComputedStyle(gd).display;\n",
       "        if (!display || display === 'none') {{\n",
       "            console.log([gd, 'removed!']);\n",
       "            Plotly.purge(gd);\n",
       "            observer.disconnect();\n",
       "        }}\n",
       "}});\n",
       "\n",
       "// Listen for the removal of the full notebook cells\n",
       "var notebookContainer = gd.closest('#notebook-container');\n",
       "if (notebookContainer) {{\n",
       "    x.observe(notebookContainer, {childList: true});\n",
       "}}\n",
       "\n",
       "// Listen for the clearing of the current output cell\n",
       "var outputEl = gd.closest('.output');\n",
       "if (outputEl) {{\n",
       "    x.observe(outputEl, {childList: true});\n",
       "}}\n",
       "\n",
       "                        })                };                });            </script>        </div>"
      ]
     },
     "metadata": {},
     "output_type": "display_data"
    }
   ],
   "source": [
    "import plotly.graph_objects as go\n",
    "from datetime import datetime, timedelta\n",
    "import random\n",
    "\n",
    "# Generate random data for the line plot\n",
    "num_points = 20  # Number of data points\n",
    "start_date = datetime(2023, 1, 1)  # Start date for the X-axis\n",
    "\n",
    "x_data = [start_date]\n",
    "y_data = [random.randint(1, 10)]\n",
    "\n",
    "for i in range(1, num_points):\n",
    "    x_data.append(x_data[i - 1] + timedelta(days=1))\n",
    "    y_data.append(y_data[i - 1] + random.randint(-5, 5))\n",
    "\n",
    "# Create the plot trace\n",
    "fig = go.Figure(data=go.Scatter(x=x_data, y=y_data, mode='lines'))\n",
    "\n",
    "# Customize the plot layout\n",
    "fig.update_layout(\n",
    "    title='Line Plot',\n",
    "    xaxis_title='X-axis',\n",
    "    yaxis_title='Y-axis',\n",
    "    width=800,\n",
    "    height=500\n",
    ")\n",
    "\n",
    "add_watermarks(fig)\n",
    "\n",
    "# Show the plot\n",
    "fig.show()\n"
   ]
  },
  {
   "cell_type": "code",
   "execution_count": null,
   "id": "212b67d5",
   "metadata": {},
   "outputs": [],
   "source": []
  }
 ],
 "metadata": {
  "kernelspec": {
   "display_name": "Python 3 (ipykernel)",
   "language": "python",
   "name": "python3"
  },
  "language_info": {
   "codemirror_mode": {
    "name": "ipython",
    "version": 3
   },
   "file_extension": ".py",
   "mimetype": "text/x-python",
   "name": "python",
   "nbconvert_exporter": "python",
   "pygments_lexer": "ipython3",
   "version": "3.9.9"
  }
 },
 "nbformat": 4,
 "nbformat_minor": 5
}
